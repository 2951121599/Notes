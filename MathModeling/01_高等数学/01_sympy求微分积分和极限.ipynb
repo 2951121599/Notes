{
 "cells": [
  {
   "cell_type": "markdown",
   "id": "58bcd92f",
   "metadata": {},
   "source": [
    "## 01_sympy求微分积分和极限"
   ]
  },
  {
   "cell_type": "markdown",
   "id": "24826831",
   "metadata": {},
   "source": [
    "### 1. 求微分-diff()\n",
    "一阶微分: diff(expr, x)\n",
    "\n",
    "多阶微分: diff(expr, x, n)\n",
    "\n",
    "多变量微分: diff(expr, x, y, ..)\n",
    "\n",
    "拓展: 微分和求导的关系(微分不是求导)\n",
    "> 微分：属于数学定义，是一种线性描述，也是微积分基本概念之一，微分可以看作是原因导致的微小变化，无穷分割是微分的中心思想。\n",
    "\n",
    "> 求导：属于数学计算中的一个方法，不仅是微积分的基础，在微积分计算中也占有重要位置。\n",
    "\n",
    "定义不同\n",
    "> 微分：由函数B=f(A)，得到A、B两个数集，在A中当dx靠近自己时，函数在dx处的极限叫作函数在dx处的微分，微分的中心思想是无穷分割。\n",
    "\n",
    "> 求导：当自变量的增量趋于零时，因变量的增量与自变量的增量之商的极限。"
   ]
  },
  {
   "cell_type": "markdown",
   "id": "71e42026",
   "metadata": {},
   "source": [
    "#### 1.1 求解一阶微分\n",
    "一阶导数: diff(expr,x)"
   ]
  },
  {
   "cell_type": "code",
   "execution_count": 58,
   "id": "68fda00a",
   "metadata": {},
   "outputs": [
    {
     "data": {
      "text/latex": [
       "$\\displaystyle x^{4}$"
      ],
      "text/plain": [
       "x**4"
      ]
     },
     "execution_count": 58,
     "metadata": {},
     "output_type": "execute_result"
    }
   ],
   "source": [
    "from sympy import *\n",
    "\n",
    "x = symbols('x')  # x为符号变量\n",
    "x ** 4"
   ]
  },
  {
   "cell_type": "code",
   "execution_count": 59,
   "id": "cb02054b",
   "metadata": {},
   "outputs": [
    {
     "data": {
      "text/latex": [
       "$\\displaystyle 4 x^{3}$"
      ],
      "text/plain": [
       "4*x**3"
      ]
     },
     "execution_count": 59,
     "metadata": {},
     "output_type": "execute_result"
    }
   ],
   "source": [
    "diff(x ** 4, x)"
   ]
  },
  {
   "cell_type": "markdown",
   "id": "dadea9f1",
   "metadata": {},
   "source": [
    "#### 1.2 求解多阶微分\n",
    "用数字来控制所求的阶数：diff(expr, x, n)"
   ]
  },
  {
   "cell_type": "code",
   "execution_count": 60,
   "id": "739d3887",
   "metadata": {},
   "outputs": [
    {
     "data": {
      "text/latex": [
       "$\\displaystyle 12 x^{2}$"
      ],
      "text/plain": [
       "12*x**2"
      ]
     },
     "execution_count": 60,
     "metadata": {},
     "output_type": "execute_result"
    }
   ],
   "source": [
    "diff(x ** 4, x, 2)  # 二阶微分"
   ]
  },
  {
   "cell_type": "code",
   "execution_count": 61,
   "id": "5f07f99f",
   "metadata": {},
   "outputs": [
    {
     "data": {
      "text/latex": [
       "$\\displaystyle 24 x$"
      ],
      "text/plain": [
       "24*x"
      ]
     },
     "execution_count": 61,
     "metadata": {},
     "output_type": "execute_result"
    }
   ],
   "source": [
    "diff(x ** 4, x, 3)  # 三阶微分"
   ]
  },
  {
   "cell_type": "markdown",
   "id": "daf1e9e7",
   "metadata": {},
   "source": [
    "#### 1.3 求解多变量微分\n",
    "求偏导数: 单独对一个变量求导"
   ]
  },
  {
   "cell_type": "code",
   "execution_count": 62,
   "id": "e624490b",
   "metadata": {},
   "outputs": [
    {
     "data": {
      "text/latex": [
       "$\\displaystyle e^{x y z}$"
      ],
      "text/plain": [
       "exp(x*y*z)"
      ]
     },
     "execution_count": 62,
     "metadata": {},
     "output_type": "execute_result"
    }
   ],
   "source": [
    "x, y, z = symbols('x y z')  # 定义多个符号变量即x,y,z\n",
    "expr = exp(x*y*z)\n",
    "expr"
   ]
  },
  {
   "cell_type": "code",
   "execution_count": 63,
   "id": "f3e985f6",
   "metadata": {},
   "outputs": [
    {
     "data": {
      "text/latex": [
       "$\\displaystyle y z e^{x y z}$"
      ],
      "text/plain": [
       "y*z*exp(x*y*z)"
      ]
     },
     "execution_count": 63,
     "metadata": {},
     "output_type": "execute_result"
    }
   ],
   "source": [
    "diff(expr, x)  # 对x求偏导"
   ]
  },
  {
   "cell_type": "code",
   "execution_count": 64,
   "id": "28b0e0ca",
   "metadata": {},
   "outputs": [
    {
     "data": {
      "text/latex": [
       "$\\displaystyle x z e^{x y z}$"
      ],
      "text/plain": [
       "x*z*exp(x*y*z)"
      ]
     },
     "execution_count": 64,
     "metadata": {},
     "output_type": "execute_result"
    }
   ],
   "source": [
    "diff(expr, y)  # 对y求偏导"
   ]
  },
  {
   "cell_type": "code",
   "execution_count": 65,
   "id": "5f0151c4",
   "metadata": {},
   "outputs": [
    {
     "data": {
      "text/latex": [
       "$\\displaystyle z \\left(x y z + 1\\right) e^{x y z}$"
      ],
      "text/plain": [
       "z*(x*y*z + 1)*exp(x*y*z)"
      ]
     },
     "execution_count": 65,
     "metadata": {},
     "output_type": "execute_result"
    }
   ],
   "source": [
    "diff(expr, x, y)  # 先对x求偏导 再对y求偏导 等价于diff(diff(expr, x), y)"
   ]
  },
  {
   "cell_type": "code",
   "execution_count": null,
   "id": "d7bc68fe",
   "metadata": {},
   "outputs": [],
   "source": []
  },
  {
   "cell_type": "markdown",
   "id": "10974ed1",
   "metadata": {},
   "source": [
    "### 2. 求积分-integrate()\n",
    "求不定积分：integrate(expr, var)\n",
    "\n",
    "求定积分：integrate(expr, (var, min, max))\n",
    "\n",
    "求多重积分：integrate(expr, (var1, min, max),(var2, min, max))"
   ]
  },
  {
   "cell_type": "markdown",
   "id": "a9a526ef",
   "metadata": {},
   "source": [
    "#### 2.1 求不定积分"
   ]
  },
  {
   "cell_type": "code",
   "execution_count": 66,
   "id": "876d2dd5",
   "metadata": {},
   "outputs": [
    {
     "data": {
      "text/latex": [
       "$\\displaystyle \\sin{\\left(x \\right)}$"
      ],
      "text/plain": [
       "sin(x)"
      ]
     },
     "execution_count": 66,
     "metadata": {},
     "output_type": "execute_result"
    }
   ],
   "source": [
    "from sympy import *\n",
    "\n",
    "\n",
    "x, y = symbols('x y')\n",
    "expr1 = cos(x)  # 表达式\n",
    "r1 = integrate(expr1, x)  # 求不定积分\n",
    "r1"
   ]
  },
  {
   "cell_type": "markdown",
   "id": "eeb3b23c",
   "metadata": {},
   "source": [
    "#### 2.2 求定积分"
   ]
  },
  {
   "cell_type": "code",
   "execution_count": 67,
   "id": "fc21760d",
   "metadata": {},
   "outputs": [
    {
     "data": {
      "text/latex": [
       "$\\displaystyle e^{- x}$"
      ],
      "text/plain": [
       "exp(-x)"
      ]
     },
     "execution_count": 67,
     "metadata": {},
     "output_type": "execute_result"
    }
   ],
   "source": [
    "expr2 = exp(-x)\n",
    "expr2"
   ]
  },
  {
   "cell_type": "code",
   "execution_count": 68,
   "id": "4e427400",
   "metadata": {},
   "outputs": [
    {
     "data": {
      "text/latex": [
       "$\\displaystyle 1$"
      ],
      "text/plain": [
       "1"
      ]
     },
     "execution_count": 68,
     "metadata": {},
     "output_type": "execute_result"
    }
   ],
   "source": [
    "r2 = integrate(expr2, (x, 0, oo))\n",
    "r2"
   ]
  },
  {
   "cell_type": "markdown",
   "id": "8393b1cc",
   "metadata": {},
   "source": [
    "#### 2.3 求多重积分 "
   ]
  },
  {
   "cell_type": "code",
   "execution_count": 69,
   "id": "ebb249f3",
   "metadata": {},
   "outputs": [
    {
     "data": {
      "text/latex": [
       "$\\displaystyle e^{- x^{2} - y^{2}}$"
      ],
      "text/plain": [
       "exp(-x**2 - y**2)"
      ]
     },
     "execution_count": 69,
     "metadata": {},
     "output_type": "execute_result"
    }
   ],
   "source": [
    "expr3 = exp(-x**2-y**2)\n",
    "expr3"
   ]
  },
  {
   "cell_type": "code",
   "execution_count": 70,
   "id": "7fc5ba9f",
   "metadata": {},
   "outputs": [
    {
     "data": {
      "text/latex": [
       "$\\displaystyle \\pi$"
      ],
      "text/plain": [
       "pi"
      ]
     },
     "execution_count": 70,
     "metadata": {},
     "output_type": "execute_result"
    }
   ],
   "source": [
    "r3 = integrate(expr3, (x, -oo, oo), (y, -oo, oo))\n",
    "r3"
   ]
  },
  {
   "cell_type": "markdown",
   "id": "eb61fdd5",
   "metadata": {},
   "source": [
    "### 3. 求极限-limit()\n",
    "求极限使用limit()，其有下两种使用方法：\n",
    "\n",
    "趋进某个点的极限：limit(expr, var, doit)\n",
    "\n",
    "从侧边趋进某个值的极限：limit(expr, var, doit, \"+\") (左侧趋进同理)"
   ]
  },
  {
   "cell_type": "code",
   "execution_count": 71,
   "id": "9309b97a",
   "metadata": {},
   "outputs": [
    {
     "data": {
      "text/latex": [
       "$\\displaystyle \\frac{\\sin{\\left(x \\right)}}{x}$"
      ],
      "text/plain": [
       "sin(x)/x"
      ]
     },
     "execution_count": 71,
     "metadata": {},
     "output_type": "execute_result"
    }
   ],
   "source": [
    "from sympy import *\n",
    "\n",
    "\n",
    "x = symbols('x')  # 初始化\n",
    "expr1 = sin(x)/x  # 表达式\n",
    "expr1"
   ]
  },
  {
   "cell_type": "code",
   "execution_count": 72,
   "id": "aa1d9e2a",
   "metadata": {},
   "outputs": [
    {
     "data": {
      "text/latex": [
       "$\\displaystyle 1$"
      ],
      "text/plain": [
       "1"
      ]
     },
     "execution_count": 72,
     "metadata": {},
     "output_type": "execute_result"
    }
   ],
   "source": [
    "# 求趋于某个值的极限\n",
    "r1 = limit(expr1, x, 0)\n",
    "r1"
   ]
  },
  {
   "cell_type": "code",
   "execution_count": 73,
   "id": "18e1c1e7",
   "metadata": {},
   "outputs": [
    {
     "data": {
      "text/latex": [
       "$\\displaystyle \\frac{1}{x}$"
      ],
      "text/plain": [
       "1/x"
      ]
     },
     "execution_count": 73,
     "metadata": {},
     "output_type": "execute_result"
    }
   ],
   "source": [
    "expr2 = 1/x\n",
    "expr2"
   ]
  },
  {
   "cell_type": "code",
   "execution_count": 74,
   "id": "59fbcf41",
   "metadata": {},
   "outputs": [
    {
     "data": {
      "text/latex": [
       "$\\displaystyle \\infty$"
      ],
      "text/plain": [
       "oo"
      ]
     },
     "execution_count": 74,
     "metadata": {},
     "output_type": "execute_result"
    }
   ],
   "source": [
    "# 正向趋进\n",
    "r2 = limit(expr2, x, 0, '+')\n",
    "r2"
   ]
  },
  {
   "cell_type": "code",
   "execution_count": 75,
   "id": "a81fa6e8",
   "metadata": {},
   "outputs": [
    {
     "data": {
      "text/latex": [
       "$\\displaystyle -\\infty$"
      ],
      "text/plain": [
       "-oo"
      ]
     },
     "execution_count": 75,
     "metadata": {},
     "output_type": "execute_result"
    }
   ],
   "source": [
    "# 负向趋进\n",
    "r3 = limit(expr2, x, 0, '-')\n",
    "r3"
   ]
  }
 ],
 "metadata": {
  "kernelspec": {
   "display_name": "Python 3.8.8 ('base')",
   "language": "python",
   "name": "python3"
  },
  "language_info": {
   "codemirror_mode": {
    "name": "ipython",
    "version": 3
   },
   "file_extension": ".py",
   "mimetype": "text/x-python",
   "name": "python",
   "nbconvert_exporter": "python",
   "pygments_lexer": "ipython3",
   "version": "3.8.8"
  },
  "vscode": {
   "interpreter": {
    "hash": "88279d2366fe020547cde40dd65aa0e3aa662a6ec1f3ca12d88834876c85e1a6"
   }
  }
 },
 "nbformat": 4,
 "nbformat_minor": 5
}
