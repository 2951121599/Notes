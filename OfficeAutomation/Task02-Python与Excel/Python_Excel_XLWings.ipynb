{
 "cells": [
  {
   "cell_type": "markdown",
   "id": "e31f7820",
   "metadata": {
    "id": "1-模块基本介绍与使用"
   },
   "source": [
    "#  Task 02 Python Excel 自动化之 XLWings"
   ]
  },
  {
   "cell_type": "markdown",
   "id": "0a07a590",
   "metadata": {},
   "source": [
    "## 2.0 模块基本介绍与使用\n",
    "\n",
    "**xlwings** <br/>\n",
    "基本介绍：用于Python与Excel之间的交互，可以轻松地从 Excel 调用 Python，也可以利用Python自动化操作Excel，调用VBA，非常方便。\n",
    "\n",
    "项目地址：https://github.com/xlwings/xlwings\n",
    "\n",
    "![xlwings-principle](./imgs/Python_Excel_XLWings/xlwings-principle.png)\n",
    "基本使用方法：新建一个excel文件，取名为xlwings_wb.xlsx，并新建一个sheet，取名为first_sht，在其A1单元格内插入字符串`Datawhale`。\n",
    "\n",
    "打开 CMD/Terminal 进入到自己环境后，执行下面语句安装 xlwings 模块。\n",
    "```python\n",
    "pip3 install xlwings\n",
    "```"
   ]
  },
  {
   "cell_type": "code",
   "execution_count": 1,
   "id": "ecb753a8",
   "metadata": {},
   "outputs": [],
   "source": [
    "root_path = './XLWings_test/'"
   ]
  },
  {
   "cell_type": "code",
   "execution_count": 2,
   "id": "79f2801e",
   "metadata": {},
   "outputs": [],
   "source": [
    "# 导入xlwings，并起一个别名 xw，方便操作\n",
    "import xlwings as xw\n",
    "\n",
    "# 1、创建一个app应用，打开Excel程序\n",
    "# visible=True 表示打开操作Excel过程可见 初次接触可以设置为True，了解其过程\n",
    "# add_book=False 表示启动app后不用新建个工作簿\n",
    "app = xw.App(visible=True, add_book=False)\n",
    "\n",
    "# 2、新建一个工作簿\n",
    "wb = app.books.add()\n",
    "\n",
    "# 3、新建一个sheet，并操作\n",
    "# 3.1 新建sheet 起名为first_sht\n",
    "sht = wb.sheets.add('first_sht')\n",
    "# 3.2 在新建的sheet表中A1位置插入一个值：Datawhale\n",
    "sht.range('A1').value = 'Datawhale'\n",
    "# 3.3 保存新建的工作簿，并起一个名字\n",
    "wb.save(root_path+'xlwings_wb.xlsx')\n",
    "\n",
    "# 4、关闭工作簿\n",
    "wb.close()\n",
    "\n",
    "# 5、程序运行结束，退出Excel程序\n",
    "app.quit()"
   ]
  },
  {
   "cell_type": "markdown",
   "id": "925fc858",
   "metadata": {},
   "source": [
    "通过简单五步，我们就可以完成新建一个excel，并向其中指定sheet中的指定位置输入值了。\n",
    "![code-result](./imgs/Python_Excel_XLWings/code-result.png)"
   ]
  },
  {
   "cell_type": "markdown",
   "id": "c221bf24",
   "metadata": {
    "id": "2-xlwings模块实战"
   },
   "source": [
    "## 2.1 xlwings模块实战"
   ]
  },
  {
   "cell_type": "markdown",
   "id": "619d0ada",
   "metadata": {
    "id": "2-1-基础语法一览"
   },
   "source": [
    "### 2.1.1 基础语法一览\n",
    "\n",
    "- 导包"
   ]
  },
  {
   "cell_type": "code",
   "execution_count": 3,
   "id": "48b12c46",
   "metadata": {},
   "outputs": [],
   "source": [
    "# 基础导入包\n",
    "import xlwings as xw  # 程序第一步"
   ]
  },
  {
   "cell_type": "markdown",
   "id": "e0267dbb",
   "metadata": {},
   "source": [
    "- 打开关闭Excel程序（理解成excel软件打开、关闭）"
   ]
  },
  {
   "cell_type": "code",
   "execution_count": 4,
   "id": "fe2293d5",
   "metadata": {},
   "outputs": [],
   "source": [
    "# visible=True 表示打开操作Excel过程可见 初次接触可以设置为True，了解其过程\n",
    "# add_book=False 表示启动app后不用新建个工作簿\n",
    "app = xw.App(visible=True, add_book=False)  # 程序第二步\n",
    "\n",
    "# 关闭excel程序\n",
    "# app.quit()  # 程序最后一步"
   ]
  },
  {
   "cell_type": "markdown",
   "id": "2aeba6d2",
   "metadata": {},
   "source": [
    "- 工作簿相关操作（理解成excel文件）"
   ]
  },
  {
   "cell_type": "code",
   "execution_count": 5,
   "id": "dd2431b2",
   "metadata": {},
   "outputs": [],
   "source": [
    "# 1、新建一个工作簿\n",
    "# wb = app.books.add()  # 程序第三步\n",
    "\n",
    "# 2、保存新建的工作簿，并起一个名字\n",
    "# 程序倒数第三步，非常关键，保存操作数据结果\n",
    "# wb.save(root_path+'xlwings_wb.xlsx')  \n",
    "\n",
    "\n",
    "# 3、打开一个已经存在的工作簿\n",
    "wb = app.books.open(root_path+'xlwings_wb.xlsx')  # 程序第三步\n",
    "\n",
    "# 4、关闭工作簿\n",
    "# wb.close()  # 程序倒数第二步"
   ]
  },
  {
   "cell_type": "markdown",
   "id": "2f8bc855",
   "metadata": {},
   "source": [
    "- sheet相关操作（理解成工作表）"
   ]
  },
  {
   "cell_type": "code",
   "execution_count": 6,
   "id": "e04cf64f",
   "metadata": {},
   "outputs": [
    {
     "name": "stdout",
     "output_type": "stream",
     "text": [
      "sht1: <Sheet [xlwings_wb.xlsx]second_sht>\n",
      "sht2: <Sheet [xlwings_wb.xlsx]first_sht>\n",
      "sht3: <Sheet [xlwings_wb.xlsx]second_sht>\n",
      "工作簿中的sheet个数为：3\n",
      "sht1.name: second_sht\n",
      "sht1.used_range.last_cell.row: 1\n",
      "sht1.used_range.last_cell.column: 1\n"
     ]
    }
   ],
   "source": [
    "# 在工作簿中新建一个sheet，起名为 second_sht\n",
    "sht1 = wb.sheets.add('second_sht')\n",
    "print('sht1:', sht1)\n",
    "\n",
    "# 选中已经存在的sheet\n",
    "sht2 = wb.sheets('first_sht')\n",
    "print('sht2:', sht2)\n",
    "\n",
    "# 也可以通过索引选择已存在的sheet\n",
    "sht3 = wb.sheets[0]  # 选中工作簿中的第一个sheet\n",
    "print('sht3:', sht3)\n",
    "\n",
    "# 获取工作簿中工作表的个数\n",
    "sht_nums = wb.sheets.count\n",
    "print('工作簿中的sheet个数为：%d'% sht_nums)\n",
    "\n",
    "# 当前工作表名字\n",
    "print('sht1.name:', sht1.name)\n",
    "\n",
    "# 获取指定sheet中数据的行数\n",
    "print('sht1.used_range.last_cell.row:', sht1.used_range.last_cell.row)\n",
    "\n",
    "# 获取指定sheet中数据的列数\n",
    "print('sht1.used_range.last_cell.column:', sht1.used_range.last_cell.column)\n",
    "\n",
    "# 删除指定的sheet 比如删除：first_sht\n",
    "wb.sheets('first_sht').delete()"
   ]
  },
  {
   "cell_type": "markdown",
   "id": "984d5800",
   "metadata": {},
   "source": [
    "- 单元格相关操作（就是excel单元格子）"
   ]
  },
  {
   "cell_type": "code",
   "execution_count": 7,
   "id": "a9f69a40",
   "metadata": {},
   "outputs": [],
   "source": [
    "'''\n",
    "写入\n",
    "'''\n",
    "# 在工作表中指定位置插入数据\n",
    "sht1.range('B1').value = 'Datawhale'\n",
    "\n",
    "# 在工作表指定位置插入多个数据 默认是横向插入\n",
    "sht1.range('B2').value = ['DATAWHALE', 'FOR', 'THE', 'LEARNER']\n",
    "\n",
    "# 在工作表指定位置竖向插入多个数据\n",
    "# 设置 options(transpose=True)，transpose=True 表示转置的意思\n",
    "sht1.range('B3').options(transpose=True).value = [1, 2, 3, 4]\n",
    "\n",
    "# 在工作表指定位置开始插入多行数据\n",
    "sht1.range('B7').value = [['a', 'b'], ['c', 'd']]\n",
    "\n",
    "# 在工作表指定位置开始插入多列数据\n",
    "sht1.range('B9').options(transpose=True).value = [['a', 'b'], ['c', 'd']]\n",
    "\n",
    "# 向单元格写入公式\n",
    "sht1.range('F2').formula = '=sum(B2:E2)'"
   ]
  },
  {
   "cell_type": "markdown",
   "id": "2ccc567d",
   "metadata": {},
   "source": [
    "运行结果：\n",
    "![xlwings-write](./imgs/Python_Excel_XLWings/xlwings-write.png)"
   ]
  },
  {
   "cell_type": "code",
   "execution_count": 8,
   "id": "b7d2aa29",
   "metadata": {
    "id": "2-1-基础语法一览-code"
   },
   "outputs": [
    {
     "name": "stdout",
     "output_type": "stream",
     "text": [
      "单元格B1= Datawhale\n",
      "单元格B2:F2= ['DATAWHALE', 'FOR', 'THE', 'LEARNER', 0.0]\n",
      "单元格B3:B6= [1.0, 2.0, 3.0, 4.0]\n",
      "单元格B7:C10= [['a', 'c', 'a', 'b'], ['b', 'd', 'c', 'd']]\n"
     ]
    }
   ],
   "source": [
    "'''\n",
    "读取\n",
    "'''\n",
    "# 在工作表中读取指定位置数据\n",
    "print('单元格B1=', sht1.range('B1').value)\n",
    "\n",
    "# 在工作表中读取指定区域数据 一行\n",
    "print('单元格B2:F2=', sht1.range('B2:F2').value)\n",
    "\n",
    "# 在工作表中读取指定区域数据 一列\n",
    "print('单元格B3:B6=', sht1.range('B3:B6').value)\n",
    "\n",
    "# 在工作表中读取指定区域数据 一个区域\n",
    "# 设置options(transpose=True)就可以按列读 不设置就是按行读\n",
    "print('单元格B7:C10=', sht1.range('B7:C10').options(transpose=True).value)"
   ]
  },
  {
   "cell_type": "code",
   "execution_count": 9,
   "id": "80191314",
   "metadata": {
    "id": "2-1-基础语法一览-code-2"
   },
   "outputs": [],
   "source": [
    "'''\n",
    "删除\n",
    "'''\n",
    "# 删除指定单元格中的数据\n",
    "sht1.range('B10').clear()\n",
    "\n",
    "# 删除指定范围内单元格数据\n",
    "sht1.range('B7:B9').clear()"
   ]
  },
  {
   "cell_type": "markdown",
   "id": "8fed0f79",
   "metadata": {},
   "source": [
    "### 2.1.2 单元格样式设置"
   ]
  },
  {
   "cell_type": "code",
   "execution_count": 10,
   "id": "109f2842",
   "metadata": {
    "id": "2-1-基础语法一览-code-3"
   },
   "outputs": [],
   "source": [
    "'''\n",
    "格式修改\n",
    "'''\n",
    "# 选中已经存在的sheet\n",
    "sht1 = wb.sheets('second_sht')\n",
    "# 返回单元格绝对路径\n",
    "sht1.range('B3').get_address()\n",
    "# sht1.range('B3').address\n",
    "\n",
    "# 合并单元格B3 C3\n",
    "sht1.range('B3:C3').api.merge()\n",
    "\n",
    "# 解除合并单元格B3 C3\n",
    "# sht1.range('B3:C3').api.unmerge()\n",
    "\n",
    "# 向指定单元格添加带超链接文本\n",
    "# address- 超连接地址\n",
    "# text_to_display- 超链接文本内容\n",
    "# screen_tip- 鼠标放到超链接上后显示提示内容\n",
    "sht1.range('C2').add_hyperlink(address='https://datawhale.club',\n",
    "                   text_to_display='DATAWHALE 官网',\n",
    "                   screen_tip='点击查看 DATAWHALE 官网 ')\n",
    "\n",
    "# 获取指定单元格的超链接地址\n",
    "sht1.range('C2').hyperlink\n",
    "\n",
    "# 自动调试指定单元格高度和宽度\n",
    "sht1.range('B1').autofit()\n",
    "\n",
    "# 设置指定单元格背景颜色\n",
    "sht1.range('B1').color = (93,199,221)\n",
    "\n",
    "# 返回指定范围内的中第一列的编号 数字，如：A-1 B-2\n",
    "sht1.range('A2:B2').column\n",
    "\n",
    "# 获取或者设置行高/列宽\n",
    "# row_height/column_width会返回行高/列宽 ，范围内行高/列宽不一致会返回None\n",
    "# 也可以设置一个新的行高/列宽\n",
    "sht1.range('A2').row_height = 25\n",
    "sht1.range('B2').column_width = 20"
   ]
  },
  {
   "cell_type": "markdown",
   "id": "fe6d887c",
   "metadata": {},
   "source": [
    "运行结果：\n",
    "![xlwings-format](./imgs/Python_Excel_XLWings/xlwings-format.png)"
   ]
  },
  {
   "cell_type": "markdown",
   "id": "f2d758d4",
   "metadata": {
    "id": "2-1-基础语法一览-4"
   },
   "source": [
    "- 在windows上可以使用以下方法设置单元格文字颜色等格式，如下：\n",
    "\n",
    "```python\n",
    "# windows系统下字体设置在 sheet.range().api.Font下\n",
    "# 颜色\n",
    "sht1.range('A1').api.Font.Color = (255,0,124)\n",
    "# 字体名字\n",
    "sht1.range('A1').api.Font.Name = '宋体'\n",
    "# 字体大小\n",
    "sht1.range('A1').api.Font.Size = 28\n",
    "# 是否加粗\n",
    "sht1.range('A1').api.Font.Bold = True\n",
    "# 数字格式\n",
    "sht1.range('A1').api.NumberFormat = '0.0'\n",
    "# -4108 水平居中\n",
    "# -4131 靠左\n",
    "# -4152 靠右\n",
    "sht1.range('A1').api.HorizontalAlignment = -4108\n",
    "# -4108 垂直居中（默认)\n",
    "# -4160 靠上\n",
    "# -4107 靠下\n",
    "# -4130 自动换行对齐。\n",
    "sht1.range('A1').api.VerticalAlignment = -4130\n",
    "# 设置上边框线风格和粗细\n",
    "sht1.range('A1').api.Borders(8).LineStyle = 5\n",
    "sht1.range('A1').api.Borders(8).Weight = 3\n",
    "```\n",
    "\n",
    "- 在mac下可以通过以下方法设置字体格式\n",
    "\n",
    "```python\n",
    "# 在mac下可以通过以下方法设置字体格式\n",
    "# 设置单元格的字体颜色\n",
    "rgb_tuple = (0, 10, 200)\n",
    "sht1.range('B1').api.font_object.color.set(rgb_tuple)\n",
    "\n",
    "# 获取指定单元格字体颜色\n",
    "sht1.range('B1').api.font_object.color.get()\n",
    "\n",
    "# 获取指定单元格字体名字 可以使用set方法修改字体 set('宋体')\n",
    "sht1.range('B1').api.font_object.name.get()\n",
    "\n",
    "# 设置指定单元格字体格式 可以用get方法查看单元格字体格式\n",
    "sht1.range('B3').api.font_object.font_style.set('加粗')\n",
    "\n",
    "# 设置指定单元格字体大小\n",
    "sht1.range('B3').api.font_object.font_size.set(20)\n",
    "\n",
    "# 设置边框线粗细\n",
    "sht1.range('B2').api.get_border(which_border=9).weight.set(4)\n",
    "\n",
    "# 设置边框线风格\n",
    "sht1.range('B2').api.get_border(which_border=9).line_style.set(8)\n",
    "```\n",
    "\n",
    "样式值含义基本说明：\n",
    "\n",
    "![xlwings-border](./imgs/Python_Excel_XLWings/xlwings-border.png)\n",
    "\n",
    "![xlwings-line](./imgs/Python_Excel_XLWings/xlwings-line.png)"
   ]
  },
  {
   "cell_type": "markdown",
   "id": "fdc9d97c",
   "metadata": {},
   "source": [
    "再次提醒，进行完所有操作后一定要记得执行以下三句："
   ]
  },
  {
   "cell_type": "code",
   "execution_count": 11,
   "id": "90a5cf1e",
   "metadata": {},
   "outputs": [],
   "source": [
    "# 保存新建的工作簿，并起一个名字（如果已存在有名字的excel文件，就直接save即可）\n",
    "wb.save()\n",
    "# 关闭工作簿（关闭Excel文件）\n",
    "wb.close()\n",
    "# 程序运行结束，退出Excel程序\n",
    "app.quit()"
   ]
  },
  {
   "cell_type": "markdown",
   "id": "2a830083",
   "metadata": {},
   "source": [
    "### 2.1.3 Excel中生成统计图或者插入图片"
   ]
  },
  {
   "cell_type": "markdown",
   "id": "d4d4cfd9",
   "metadata": {},
   "source": [
    "- 自动生成统计图"
   ]
  },
  {
   "cell_type": "code",
   "execution_count": 12,
   "id": "9b9bad15",
   "metadata": {},
   "outputs": [],
   "source": [
    "import xlwings as xw\n",
    "\n",
    "# 新建一个sheet\n",
    "app = xw.App(visible=True, add_book=False)\n",
    "wb = app.books.open(root_path+'xlwings_wb.xlsx')\n",
    "sht3 = wb.sheets.add('third_sht')\n",
    "\n",
    "import pandas as pd\n",
    "import numpy as np\n",
    "\n",
    "# 生成模拟数据\n",
    "df = pd.DataFrame({\n",
    "    'money':np.random.randint(45, 50, size = [1, 20])[0],\n",
    "},\n",
    "    index=pd.date_range('2021-02-01', '2021-02-20'),  # 行索引和时间相关\n",
    ")\n",
    "df.index.name = '消费日期'  # 设置索引名字\n",
    "\n",
    "sht3.range('A1').value = df\n",
    "\n",
    "# 生成图表\n",
    "chart1 = sht3.charts.add()  # 创建一个图表对象\n",
    "chart1.set_source_data(sht3.range('A1').expand())  # 加载数据\n",
    "chart1.chart_type = 'line'  # 设置图标类型\n",
    "chart1.top = sht3.range('D2').top  \n",
    "chart1.left = sht3.range('D2').left  # 设置图标开始位置 "
   ]
  },
  {
   "cell_type": "markdown",
   "id": "cccfa30e",
   "metadata": {},
   "source": [
    "运行结果：\n",
    "![xlwings-charts](./imgs/Python_Excel_XLWings/xlwings-charts.png)\n",
    "\n",
    "除了绘制折线图，我们还可以绘制其他类型的图，修改`chart_type`值即可。\n",
    "```python\n",
    "# 查看其他chart_types值\n",
    "xw.constants.chart_types\n",
    "```\n",
    "\n",
    "返回结果很长，这里选几个常见的图形列出来：\n",
    "```\n",
    " '3d_line',  # 3D折线图\n",
    " '3d_pie', # 3D饼图\n",
    " 'area',  # 面积图\n",
    " 'bar_clustered',  # 柱状图相关\n",
    " 'bubble',  # 气泡图\n",
    " 'column_clustered',  # 条形图相关\n",
    " 'line',  # 折线图\n",
    " 'stock_hlc',  # 有意思 股票K线图\n",
    "```"
   ]
  },
  {
   "cell_type": "markdown",
   "id": "12365239",
   "metadata": {},
   "source": [
    "- 将本地图片或者matplotlib图片保存到excel"
   ]
  },
  {
   "cell_type": "code",
   "execution_count": 13,
   "id": "790dd190",
   "metadata": {},
   "outputs": [
    {
     "data": {
      "image/png": "[encoded data removed]",
      "text/plain": [
       "<Figure size 432x288 with 1 Axes>"
      ]
     },
     "metadata": {},
     "output_type": "display_data"
    },
    {
     "data": {
      "text/plain": [
       "<Picture 'matplotlib' in <Sheet [xlwings_wb.xlsx]third_sht>>"
      ]
     },
     "execution_count": 13,
     "metadata": {},
     "output_type": "execute_result"
    }
   ],
   "source": [
    "'''\n",
    "matplotlib 生成的图片存入excel\n",
    "'''\n",
    "import matplotlib.pyplot as plt\n",
    "# 随便绘制一个饼图\n",
    "fig1 = plt.figure()  # 先创建一个图像对象\n",
    "plt.pie([0.5, 0.3, 0.2],  # 值\n",
    "        labels=['a', 'b', 'c'],  # 标签\n",
    "        explode=(0, 0.2, 0),  # （爆裂）距离\n",
    "        autopct='%1.1f%%',   # 显示百分数格式\n",
    "        shadow=True)  # 是否显示阴影\n",
    "plt.show() \n",
    "\n",
    "# 将饼图添加到excel指定位置 J17为图片开始位置\n",
    "sht3.pictures.add(fig1, name='matplotlib', \n",
    "                  left=sht3.range('J17').left, \n",
    "                  top=sht3.range('J17').top, update=True)"
   ]
  },
  {
   "cell_type": "markdown",
   "id": "3878effd",
   "metadata": {},
   "source": [
    "运行结果：\n",
    "![xlwings-matplotlib](./imgs/Python_Excel_XLWings/xlwings-matplotlib.png)"
   ]
  },
  {
   "cell_type": "code",
   "execution_count": 14,
   "id": "16d435af",
   "metadata": {},
   "outputs": [
    {
     "data": {
      "text/plain": [
       "<Picture 'local' in <Sheet [xlwings_wb.xlsx]third_sht>>"
      ]
     },
     "execution_count": 14,
     "metadata": {},
     "output_type": "execute_result"
    }
   ],
   "source": [
    "'''\n",
    "本地图片存入excel\n",
    "'''\n",
    "# 将本地图片添加到excel指定位置 J1为图片开始位置\n",
    "pic_path = './imgs/logo.png'\n",
    "sht3.pictures.add(pic_path, name='local', \n",
    "                  left=sht3.range('J1').left, \n",
    "                  top=sht3.range('J1').top, update=True)"
   ]
  },
  {
   "cell_type": "markdown",
   "id": "eef11a97",
   "metadata": {},
   "source": [
    "运行结果：\n",
    "![xlwings-local](./imgs/Python_Excel_XLWings/xlwings-local.png)"
   ]
  },
  {
   "cell_type": "markdown",
   "id": "97ff4a98",
   "metadata": {},
   "source": [
    "## 2.2 实战练习"
   ]
  },
  {
   "cell_type": "markdown",
   "id": "a1266953",
   "metadata": {
    "id": "2-1-基础语法一览-code-4"
   },
   "source": [
    "### 2.2.1 将消费数据可视化生成带平均线的趋势图，存入excel"
   ]
  },
  {
   "cell_type": "code",
   "execution_count": 15,
   "id": "7e7646dc",
   "metadata": {},
   "outputs": [
    {
     "data": {
      "image/png": "[encoded data removed]",
      "text/plain": [
       "<Figure size 432x288 with 1 Axes>"
      ]
     },
     "metadata": {
      "needs_background": "light"
     },
     "output_type": "display_data"
    },
    {
     "data": {
      "text/plain": [
       "<Picture '消费情况' in <Sheet [xlwings_wb.xlsx]third_sht>>"
      ]
     },
     "execution_count": 15,
     "metadata": {},
     "output_type": "execute_result"
    }
   ],
   "source": [
    "'''\n",
    "实战练习一：将消费数据可视化生成带平均线的趋势图，存入excel\n",
    "数据就是之前生成的模拟数据\n",
    "'''\n",
    "fig, ax = plt.subplots()  # 创建一个画板\n",
    "# 生成一条新线- 平均消费数据\n",
    "money_m = [df['money'].mean(axis=0) for i in range(len(df['money']))]\n",
    "# 建一条线：消费趋势折线图\n",
    "ax.plot(df.index, df['money'], color='#f16a0b', label='每日消费')\n",
    "# 再建一条线：平均消费直线图\n",
    "ax.plot(df.index, money_m, linestyle='--', color='#301502', label='平均消费')\n",
    "# 设置横纵坐标基础说明\n",
    "ax.set_xlabel(u'日期') \n",
    "ax.set_ylabel(u'消费金额/元') \n",
    "ax.set_title(u'消费折线图')  \n",
    "# 设置x轴值显示方向\n",
    "plt.setp(ax.get_xticklabels(), rotation=70, horizontalalignment='right')\n",
    "# 添加图例（label说明到图片上） loc设置显示位置\n",
    "ax.legend(loc=2) \n",
    "plt.show()\n",
    "sht3.pictures.add(fig, name='消费情况', \n",
    "                  left=sht3.range('D17').left, \n",
    "                  top=sht3.range('D17').top, update=True)"
   ]
  },
  {
   "cell_type": "markdown",
   "id": "e9e47fe3",
   "metadata": {},
   "source": [
    "运行结果：\n",
    "![xlwings-practice1](./imgs/Python_Excel_XLWings/xlwings-practice1.png)\n",
    "\n",
    "[matplotlib 中文显示参考教程](https://juejin.cn/post/7011473852198977550)"
   ]
  },
  {
   "cell_type": "code",
   "execution_count": 16,
   "id": "e95f28e1",
   "metadata": {},
   "outputs": [],
   "source": [
    "# 保存新建的工作簿，并起一个名字（如果已存在有名字的excel文件，就直接save即可）\n",
    "wb.save()\n",
    "# 关闭工作簿（关闭Excel文件）\n",
    "wb.close()\n",
    "# 程序运行结束，退出Excel程序\n",
    "app.quit()"
   ]
  },
  {
   "cell_type": "markdown",
   "id": "ce22f7a6",
   "metadata": {},
   "source": [
    "### 2.2.2 将股票数据以指定的格式存储到excel并生成股票走势图"
   ]
  },
  {
   "cell_type": "markdown",
   "id": "8b7cc534",
   "metadata": {},
   "source": [
    "- 新建一个sheet，然后获取数据"
   ]
  },
  {
   "cell_type": "code",
   "execution_count": 17,
   "id": "99c07d81",
   "metadata": {},
   "outputs": [
    {
     "data": {
      "text/html": [
       "<div>\n",
       "<style scoped>\n",
       "    .dataframe tbody tr th:only-of-type {\n",
       "        vertical-align: middle;\n",
       "    }\n",
       "\n",
       "    .dataframe tbody tr th {\n",
       "        vertical-align: top;\n",
       "    }\n",
       "\n",
       "    .dataframe thead th {\n",
       "        text-align: right;\n",
       "    }\n",
       "</style>\n",
       "<table border=\"1\" class=\"dataframe\">\n",
       "  <thead>\n",
       "    <tr style=\"text-align: right;\">\n",
       "      <th></th>\n",
       "      <th>date</th>\n",
       "      <th>open</th>\n",
       "      <th>high</th>\n",
       "      <th>low</th>\n",
       "      <th>close</th>\n",
       "      <th>volume</th>\n",
       "    </tr>\n",
       "  </thead>\n",
       "  <tbody>\n",
       "    <tr>\n",
       "      <th>0</th>\n",
       "      <td>1990-12-19</td>\n",
       "      <td>96.050</td>\n",
       "      <td>99.980</td>\n",
       "      <td>95.790</td>\n",
       "      <td>99.980</td>\n",
       "      <td>126000</td>\n",
       "    </tr>\n",
       "    <tr>\n",
       "      <th>1</th>\n",
       "      <td>1990-12-20</td>\n",
       "      <td>104.300</td>\n",
       "      <td>104.390</td>\n",
       "      <td>99.980</td>\n",
       "      <td>104.390</td>\n",
       "      <td>19700</td>\n",
       "    </tr>\n",
       "    <tr>\n",
       "      <th>2</th>\n",
       "      <td>1990-12-21</td>\n",
       "      <td>109.070</td>\n",
       "      <td>109.130</td>\n",
       "      <td>103.730</td>\n",
       "      <td>109.130</td>\n",
       "      <td>2800</td>\n",
       "    </tr>\n",
       "    <tr>\n",
       "      <th>3</th>\n",
       "      <td>1990-12-24</td>\n",
       "      <td>113.570</td>\n",
       "      <td>114.550</td>\n",
       "      <td>109.130</td>\n",
       "      <td>114.550</td>\n",
       "      <td>3200</td>\n",
       "    </tr>\n",
       "    <tr>\n",
       "      <th>4</th>\n",
       "      <td>1990-12-25</td>\n",
       "      <td>120.090</td>\n",
       "      <td>120.250</td>\n",
       "      <td>114.550</td>\n",
       "      <td>120.250</td>\n",
       "      <td>1500</td>\n",
       "    </tr>\n",
       "    <tr>\n",
       "      <th>...</th>\n",
       "      <td>...</td>\n",
       "      <td>...</td>\n",
       "      <td>...</td>\n",
       "      <td>...</td>\n",
       "      <td>...</td>\n",
       "      <td>...</td>\n",
       "    </tr>\n",
       "    <tr>\n",
       "      <th>7686</th>\n",
       "      <td>2022-06-08</td>\n",
       "      <td>3245.017</td>\n",
       "      <td>3266.630</td>\n",
       "      <td>3216.015</td>\n",
       "      <td>3263.793</td>\n",
       "      <td>43418327000</td>\n",
       "    </tr>\n",
       "    <tr>\n",
       "      <th>7687</th>\n",
       "      <td>2022-06-09</td>\n",
       "      <td>3259.490</td>\n",
       "      <td>3270.557</td>\n",
       "      <td>3223.475</td>\n",
       "      <td>3238.954</td>\n",
       "      <td>42272837200</td>\n",
       "    </tr>\n",
       "    <tr>\n",
       "      <th>7688</th>\n",
       "      <td>2022-06-10</td>\n",
       "      <td>3214.185</td>\n",
       "      <td>3286.620</td>\n",
       "      <td>3210.808</td>\n",
       "      <td>3284.834</td>\n",
       "      <td>43986573000</td>\n",
       "    </tr>\n",
       "    <tr>\n",
       "      <th>7689</th>\n",
       "      <td>2022-06-13</td>\n",
       "      <td>3256.275</td>\n",
       "      <td>3272.991</td>\n",
       "      <td>3229.309</td>\n",
       "      <td>3255.551</td>\n",
       "      <td>43857831200</td>\n",
       "    </tr>\n",
       "    <tr>\n",
       "      <th>7690</th>\n",
       "      <td>2022-06-14</td>\n",
       "      <td>3224.214</td>\n",
       "      <td>3289.134</td>\n",
       "      <td>3195.819</td>\n",
       "      <td>3288.907</td>\n",
       "      <td>45038818700</td>\n",
       "    </tr>\n",
       "  </tbody>\n",
       "</table>\n",
       "<p>7691 rows × 6 columns</p>\n",
       "</div>"
      ],
      "text/plain": [
       "            date      open      high       low     close       volume\n",
       "0     1990-12-19    96.050    99.980    95.790    99.980       126000\n",
       "1     1990-12-20   104.300   104.390    99.980   104.390        19700\n",
       "2     1990-12-21   109.070   109.130   103.730   109.130         2800\n",
       "3     1990-12-24   113.570   114.550   109.130   114.550         3200\n",
       "4     1990-12-25   120.090   120.250   114.550   120.250         1500\n",
       "...          ...       ...       ...       ...       ...          ...\n",
       "7686  2022-06-08  3245.017  3266.630  3216.015  3263.793  43418327000\n",
       "7687  2022-06-09  3259.490  3270.557  3223.475  3238.954  42272837200\n",
       "7688  2022-06-10  3214.185  3286.620  3210.808  3284.834  43986573000\n",
       "7689  2022-06-13  3256.275  3272.991  3229.309  3255.551  43857831200\n",
       "7690  2022-06-14  3224.214  3289.134  3195.819  3288.907  45038818700\n",
       "\n",
       "[7691 rows x 6 columns]"
      ]
     },
     "execution_count": 17,
     "metadata": {},
     "output_type": "execute_result"
    }
   ],
   "source": [
    "'''\n",
    "实战练习二：将股票数据以指定的格式存储到excel并生成股票走势图\n",
    "利用akshare爬取上证指数数据 代号：sh000001\n",
    "'''\n",
    "# 需要提前 pip install akshare 安装 akshare\n",
    "import akshare as ak\n",
    "import xlwings as xw\n",
    "import datetime \n",
    "\n",
    "# 新建一个sheet\n",
    "app = xw.App(visible=True, add_book=False)\n",
    "wb = app.books.open(root_path+'xlwings_wb.xlsx')\n",
    "sz_sht = wb.sheets.add('sz_sht')  # 第一次新建\n",
    "# sz_sht = wb.sheets['sz_sht']  # 已经存在，直接打开\n",
    "\n",
    "# 获取数据 open high low close volume index-date\n",
    "# volume 是成交量 多少股\n",
    "# 0、获取数据\n",
    "sz_index = ak.stock_zh_index_daily(symbol=\"sh000001\")\n",
    "sz_index"
   ]
  },
  {
   "cell_type": "markdown",
   "id": "ff037e7a",
   "metadata": {},
   "source": [
    "- 处理并存储数据到excel"
   ]
  },
  {
   "cell_type": "code",
   "execution_count": 18,
   "id": "700e0ae6",
   "metadata": {},
   "outputs": [],
   "source": [
    "# 1、处理下数据\n",
    "sz_index.set_index('date', inplace=True)\n",
    "sz_data = sz_index[datetime.date(2022,1,1):datetime.date(2022,6,14)].iloc[:,0:4]  # 只取今年数据 ohlc\n",
    "sz_data.index = sz_data.index.to_series().apply(lambda x : x.strftime('%m-%d')) # 将索引日期格式改为 月-日\n",
    "\n",
    "# 2、存储数据\n",
    "sz_sht.range('A1').value = sz_data"
   ]
  },
  {
   "cell_type": "markdown",
   "id": "a4a6bf5f",
   "metadata": {},
   "source": [
    "- 处理表格中数据格式"
   ]
  },
  {
   "cell_type": "code",
   "execution_count": 19,
   "id": "c34c74c8",
   "metadata": {},
   "outputs": [],
   "source": [
    "# 3、处理数据格式\n",
    "# - 表头字体 格式加粗 背景颜色\n",
    "sz_sht.range('A1:E1').api.font_object.name.set('Calibri')\n",
    "sz_sht.range('A1:E1').api.font_object.font_style.set('加粗')\n",
    "sz_sht.range('A1:E1').api.font_object.color.set((255, 255, 255))\n",
    "# 背景颜色\n",
    "sz_sht.range('A1:E1').color = (16, 156, 245) \n",
    "# mac上居中未实现，有了解的小伙伴可以留言指出下，感谢\n",
    "# sz_sht.range('B1').api.font_object.horizontalalignment = xw.constants.Constants.xlCenter\n",
    "\n",
    "# - 添加边框\n",
    "# 1 左+内部竖线  \n",
    "sz_sht.range('A1:E177').api.get_border(which_border=1).weight.set(2)\n",
    "# 10 最右侧竖线\n",
    "sz_sht.range('A1:E177').api.get_border(which_border=10).weight.set(2)\n",
    "# 3 上+内部横线\n",
    "sz_sht.range('A1:E177').api.get_border(which_border=3).weight.set(2)\n",
    "# 9 最下面横线\n",
    "sz_sht.range('A1:E177').api.get_border(which_border=9).weight.set(2)"
   ]
  },
  {
   "cell_type": "markdown",
   "id": "d63028f8",
   "metadata": {},
   "source": [
    "- 生成ohlc k线图并存储到excel指定位置"
   ]
  },
  {
   "cell_type": "code",
   "execution_count": 20,
   "id": "2d52f8e0",
   "metadata": {},
   "outputs": [],
   "source": [
    "# 4、生成图表\n",
    "chart_ohlc = sz_sht.charts.add()  # 创建一个图表对象\n",
    "chart_ohlc.set_source_data(sz_sht.range('A1').expand())  # 加载数据\n",
    "chart_ohlc.chart_type = 'stock_ohlc'  # 设置图标类型\n",
    "chart_ohlc.top = sz_sht.range('G2').top  \n",
    "chart_ohlc.left = sz_sht.range('G2').left  # 设置图标开始位置 "
   ]
  },
  {
   "cell_type": "markdown",
   "id": "e10b75c8",
   "metadata": {},
   "source": [
    "运行结果：\n",
    "![xlwings-practice2](./imgs/Python_Excel_XLWings/xlwings-practice2.png)"
   ]
  },
  {
   "cell_type": "code",
   "execution_count": 21,
   "id": "ba1986c4",
   "metadata": {},
   "outputs": [],
   "source": [
    "# 保存新建的工作簿，并起一个名字（如果已存在有名字的excel文件，就直接save即可）\n",
    "wb.save()\n",
    "# 关闭工作簿（关闭Excel文件）\n",
    "wb.close()\n",
    "# 程序运行结束，退出Excel程序\n",
    "app.quit()"
   ]
  },
  {
   "cell_type": "code",
   "execution_count": null,
   "id": "eb576d2e",
   "metadata": {},
   "outputs": [],
   "source": []
  }
 ],
 "metadata": {
  "colab": {
   "name": "1 模块基本介绍与使用",
   "toc_visible": true
  },
  "kernelspec": {
   "display_name": "office",
   "language": "python",
   "name": "office"
  },
  "language_info": {
   "codemirror_mode": {
    "name": "ipython",
    "version": 3
   },
   "file_extension": ".py",
   "mimetype": "text/x-python",
   "name": "python",
   "nbconvert_exporter": "python",
   "pygments_lexer": "ipython3",
   "version": "3.8.13"
  }
 },
 "nbformat": 4,
 "nbformat_minor": 5
}
