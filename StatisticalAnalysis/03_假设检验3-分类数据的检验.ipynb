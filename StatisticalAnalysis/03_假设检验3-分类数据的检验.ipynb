{
 "cells": [
  {
   "cell_type": "code",
   "execution_count": 1,
   "metadata": {},
   "outputs": [],
   "source": [
    "# 加载必要的包\n",
    "import numpy as np\n",
    "import pandas as pd\n",
    "from scipy import stats\n",
    "import matplotlib.pyplot as plt\n",
    "from IPython.display import display\n"
   ]
  },
  {
   "cell_type": "markdown",
   "metadata": {},
   "source": [
    "# 分类型数据"
   ]
  },
  {
   "cell_type": "markdown",
   "metadata": {},
   "source": [
    "分类型数据也称为频数数据。在数据样本中，我们称落入某一个特定分组的样本数量为频数；当分组的维度只有1时，我们称这样的数据为单因素频数表；当分组的维度为2时，我们称这样的数据为列联表数据。\n",
    "\n",
    "<img src=\"./images/单因素频数表.png\">\n",
    "\n",
    "<img src=\"./images/双因素列联表.png\">"
   ]
  },
  {
   "cell_type": "markdown",
   "metadata": {},
   "source": [
    "## 4.1 分类数据的常用检验"
   ]
  },
  {
   "cell_type": "markdown",
   "metadata": {},
   "source": [
    "分类型数据的检验有很多：卡方检验、Fisher检验、McNermr检验、Cochran's Q检验等等。其中，卡方检验与Fisher检验是分类数据检验中最常见的检验。"
   ]
  },
  {
   "cell_type": "markdown",
   "metadata": {},
   "source": [
    "### 4.1.1 卡方检验与Fisher检验"
   ]
  },
  {
   "cell_type": "markdown",
   "metadata": {},
   "source": [
    "**· 两种检验的思想与卡方检验原理**\n",
    "\n",
    "卡方检验与Fisher检验都是分析频数表中**绝对频数**与**期望频数**的偏差程度，对于它们而言，检验的两个假设分别为\n",
    "$$\n",
    "H_0:\\text{绝对频数与期望频数没有差别}\\leftrightarrow H_1:\\,\\text{绝对频数与期望频数存在差别}\n",
    "$$\n",
    "\n",
    "对于一个给定的频数表而言，我们称其中的频数为绝对频数，记为$o_i$，$i$为频数表中格子的序号（或者行列位置）。在上面的单因素频数表中，骰子点数1的绝对频数为$o_1=18$；在双因素列联表中，男性左利手的绝对频数为$o_{11}=43$。\n",
    "\n",
    "而期望频数则根据我们进行卡方/Fisher检验的用途变化而变化，记为$e_i$。例如，在列联表独立性检验中，每个格子的期望频数就是这个格子在表格中的【期望值】；在特定分布的拟合优度检验中，期望频数就是特定分布在每个取值区间下的频数。\n",
    "\n",
    "如果绝对频数与期望频数的差值越小，则两者越接近，我们越不能拒绝原假设。基于此，卡方检验构造了下述检验统计量：\n",
    "$$\n",
    "Test\\,\\,statistics=\\sum_i{\\frac{\\left( o_i-e_i \\right) ^2}{e_i}}\n",
    "$$\n",
    "而该统计量近似服从卡方分布（在大样本下）：\n",
    "$$\n",
    "Test\\,\\,statistics\\sim \\chi _{f}^{2}\n",
    "$$\n",
    "其中，$f$为自由度。对于有n个格子的单因素频数表而言，$f=n-1$；对于$r\\times c$的双因素列联表而言，$f=\\left( r-1 \\right) \\left( c-1 \\right) $\n",
    "\n",
    "p值计算规则为：\n",
    "$$\n",
    "pvalue=P\\left( \\chi _{f}^{2}>Test\\,\\,statistics \\right) \n",
    "$$\n",
    "\n",
    "***卡方检验中的检验统计量是近似服从而非精确服从卡方分布，只有在大样本下（绝对频数与期望频数都很大）的情况下，卡方检验的精确度才高，而在小样本下，卡方检验的效用不及Fisher检验。相比于卡方检验这种“近似的”检验，Fisher检验是一种精确的检验，但是它的计算要比卡方检验复杂。***"
   ]
  },
  {
   "cell_type": "markdown",
   "metadata": {},
   "source": [
    "#### 卡方检验的适用范围"
   ]
  },
  {
   "cell_type": "markdown",
   "metadata": {},
   "source": [
    "卡方检验适用于**单因素频数表**、**双因素频数表中的$2\\times 2$与$r\\times c$列联表**。\n",
    "\n",
    "**单因素频数表**\n",
    "1. 在单因素频数表中，每一类的绝对频数$o_i$不能小于5。\n",
    "\n",
    "**$2\\times 2$列联表**\n",
    "1. 样本总量$\\sum{o_i}>40$，且所有期望频数$e_i>5$，可使用Pearson卡方检验\n",
    "2. 样本总量$\\sum{o_i}>40$，但存在期望频数$1<e_i<5$，可使用连续型校正的卡方检验\n",
    "3. 若样本总量$\\sum{o_i}<40$，或存在期望频数$1<e_i$，建议使用Fisher检验\n",
    "\n",
    "**$r\\times c$列联表**\n",
    "1. 表中期望频数$e_i<5$的格子不能超过1/5。\n",
    "2. 不得出现期望频数$1<e_i$的情况。"
   ]
  },
  {
   "cell_type": "markdown",
   "metadata": {},
   "source": [
    "#### Fisher检验的适用范围"
   ]
  },
  {
   "cell_type": "markdown",
   "metadata": {},
   "source": [
    "Fisher检验仅仅适用于**双因素频数表中的$2\\times 2$列联表**。\n",
    "\n",
    "Fisher检验在$2\\times 2$列联表中适用范围内很广，弥补了卡方检验的缺点。"
   ]
  },
  {
   "cell_type": "markdown",
   "metadata": {},
   "source": [
    "***总结一下，卡方检验在多种频数表中都可以应用，但要注意绝对频数与理论频数是否过低；Fisher检验只适用于$2\\times 2$列联表，但是在该表中的精确度与适用性都优于卡方检验。因此在$2\\times 2$列联表中，我推荐大家使用Fisher检验；在其他表格中使用卡方检验。***"
   ]
  },
  {
   "cell_type": "markdown",
   "metadata": {},
   "source": [
    "## 4.2  单因素频数表的检验"
   ]
  },
  {
   "cell_type": "markdown",
   "metadata": {},
   "source": [
    "### 4.2.1 适度性检验"
   ]
  },
  {
   "cell_type": "markdown",
   "metadata": {},
   "source": [
    "适度性检验的目的是：检验**多项式实验**得到的绝对频数与“期望值”是否存在显著差异。\n",
    "\n",
    "在单因素频数表中，这个期望值就是表格的观测总数除以格子数：\n",
    "$$\n",
    "expectedFrequency=\\frac{\\sum{o_i}}{i}\n",
    "$$\n",
    "在前面的120次掷骰子的实验中，每个数字的期望值就是120/6=20。\n",
    "\n",
    "适度性检验的实际应用场景灵活多变，我们举一个例子。\n",
    "\n",
    "**Example.10** 你和你的5个朋友们租了一个公寓一起生活。大家每天晚上都通过抽签决定某一个人去洗碗。经过几十天下来，你们统计了这段时间每个人的洗碗次数，如下图所示\n",
    "\n",
    "<img src=\"./images/洗碗.png\">\n",
    "\n",
    "你发现有点不对劲，怎么你洗碗的次数一骑绝尘呢？你怀疑有人在作弊，想检验一下这个洗碗次数的分布是不是不太符合常理，你会怎么检验呢？\n",
    "\n",
    "事实上，你想检验的本质上就是“每个人的实际洗碗次数与期望洗碗次数是否存在显著差异”，我们便可以使用适度性检验。"
   ]
  },
  {
   "cell_type": "code",
   "execution_count": 2,
   "metadata": {},
   "outputs": [
    {
     "data": {
      "text/plain": [
       "Power_divergenceResult(statistic=10.727272727272728, pvalue=0.057063677925693244)"
      ]
     },
     "execution_count": 2,
     "metadata": {},
     "output_type": "execute_result"
    }
   ],
   "source": [
    "obs1 = [20, 12, 10, 8, 10, 6]\n",
    "chi = stats.chisquare(obs1)  # 若理论频数是期望，则我们只需要输入实际频数即可。\n",
    "chi\n"
   ]
  },
  {
   "cell_type": "markdown",
   "metadata": {},
   "source": [
    "p值大于0.05，看来我们不能拒绝原假设，你洗那么多次碗可能真的是有一点点怨种！"
   ]
  },
  {
   "cell_type": "markdown",
   "metadata": {},
   "source": [
    "### 4.2.2 分布的拟合优度检验"
   ]
  },
  {
   "cell_type": "markdown",
   "metadata": {},
   "source": [
    "单因素频数表检验的另外一个重要的应用场景就是分布的拟合优度检验\n",
    "\n",
    "**· 什么是分布拟合优度检验**\n",
    "\n",
    "设样本$x_i$是来自一个潜在总体$F(x)$，分布拟合优度检验所检验的问题是：通过这些样本$x_i$判断潜在总体$F(x)$是否等同于一个假设的理论分布$F_0(x)$。原假设为\n",
    "$$\n",
    "H_0: F\\left( x \\right) =F_0\\left( x \\right) \n",
    "$$\n",
    "其中，理论分布$F_0(x)$必须是一个分布函数已知的分布。由于分布可以分为离散分布与连续分布，我们将分开讨论这两类分布的检验。"
   ]
  },
  {
   "cell_type": "markdown",
   "metadata": {},
   "source": [
    "**· 样本$x_i$来自离散分布**\n",
    "\n",
    "既然样本来自一个离散分布，那么理论分布$F_0(x)$也应当是一个离散分布。\n",
    "\n",
    "设总体$X$为取有限个值$a_1$，$a_2$，……的离散随机变量。我们既可以将单独的$a_j$看成是一个类$A$，也可以将多个$a_j$合并成一个类$A$。例如，我们可以将“取值为1”的样本看成是一个类，也可以将“取值为1/2/3”的样本看成是一个类。我们将这有限个类记为$A_1$,……,$A_r$。分类的**唯一准则**是：落入类$A$中的样本观测数不得少于5，否则就要与其他类合并。例如：取值为1的样本个数为3，取值为2的样本个数为4，那么我们就需要将它们合并为一个“取值为1和2”的类，因为这样才能保证落入该类的样本个数高于5。\n",
    "\n",
    "记$P\\left(X \\in A_{i}\\right)=p_{i}(i=1,2, \\cdots, r)$为理论分布$F_0(x)$在该分类下的“比例”，显然，我们用这个比例乘样本个数$n$，所得到的$np_i$就是**样本在这个分布下的期望频数$e_i$**，如果样本的潜在总体$F(x)$服从理论总体$F_0(x)$，样本实际落入类$A_i$的实际频数$o_i$应当接近于期望频数$np_i$，原假设便转换为了\n",
    "$$\n",
    "H_0: o_i=np_i\n",
    "$$\n",
    "这恰巧就是卡方分布所检验的内容。于是我们便可以是用卡方分布进行分布拟合优度检验。\n",
    "\n",
    "总结一下使用卡方分布进行拟合优度检验的步骤：\n",
    "\n",
    "1. 分类。根据**实际频数**$o_i$确定类别，若某个变量取值下样本的个数大于5，则直接将该取值作为一个单独的类；若小于5，则与相邻的取值合并为一个类。\n",
    "\n",
    "2. 计算理论分布$F_0(x)$在该分类规则下，每个分类中的理论频数$np_i$。\n",
    "\n",
    "3. 进行卡方检验。\n",
    "\n",
    "接下来，我们进入实操环节，让大家直观地理解离散分布拟合优度检验的过程。"
   ]
  },
  {
   "cell_type": "markdown",
   "metadata": {},
   "source": [
    "**Example.11** 我们验证卢瑟福实验的数据是否服从一个泊松分布。以下数据观测的是一枚放射性$\\alpha$物质在单位时间内放射的质点数，实验重复2608次。\n",
    "\n",
    "<img src=\"./images/卢瑟福.png\">\n",
    "\n",
    "我们对该数据进行泊松分布的拟合优度检验。提示:我们用极大似然估计法计算出泊松分布参数$\\lambda =3.87$"
   ]
  },
  {
   "cell_type": "code",
   "execution_count": 3,
   "metadata": {},
   "outputs": [
    {
     "data": {
      "text/html": [
       "<div>\n",
       "<style scoped>\n",
       "    .dataframe tbody tr th:only-of-type {\n",
       "        vertical-align: middle;\n",
       "    }\n",
       "\n",
       "    .dataframe tbody tr th {\n",
       "        vertical-align: top;\n",
       "    }\n",
       "\n",
       "    .dataframe thead th {\n",
       "        text-align: right;\n",
       "    }\n",
       "</style>\n",
       "<table border=\"1\" class=\"dataframe\">\n",
       "  <thead>\n",
       "    <tr style=\"text-align: right;\">\n",
       "      <th></th>\n",
       "      <th>counts</th>\n",
       "      <th>observe</th>\n",
       "    </tr>\n",
       "  </thead>\n",
       "  <tbody>\n",
       "    <tr>\n",
       "      <th>0</th>\n",
       "      <td>0</td>\n",
       "      <td>57</td>\n",
       "    </tr>\n",
       "    <tr>\n",
       "      <th>1</th>\n",
       "      <td>1</td>\n",
       "      <td>203</td>\n",
       "    </tr>\n",
       "    <tr>\n",
       "      <th>2</th>\n",
       "      <td>2</td>\n",
       "      <td>383</td>\n",
       "    </tr>\n",
       "    <tr>\n",
       "      <th>3</th>\n",
       "      <td>3</td>\n",
       "      <td>525</td>\n",
       "    </tr>\n",
       "    <tr>\n",
       "      <th>4</th>\n",
       "      <td>4</td>\n",
       "      <td>532</td>\n",
       "    </tr>\n",
       "    <tr>\n",
       "      <th>5</th>\n",
       "      <td>5</td>\n",
       "      <td>408</td>\n",
       "    </tr>\n",
       "    <tr>\n",
       "      <th>6</th>\n",
       "      <td>6</td>\n",
       "      <td>273</td>\n",
       "    </tr>\n",
       "    <tr>\n",
       "      <th>7</th>\n",
       "      <td>7</td>\n",
       "      <td>139</td>\n",
       "    </tr>\n",
       "    <tr>\n",
       "      <th>8</th>\n",
       "      <td>8</td>\n",
       "      <td>45</td>\n",
       "    </tr>\n",
       "    <tr>\n",
       "      <th>9</th>\n",
       "      <td>9</td>\n",
       "      <td>27</td>\n",
       "    </tr>\n",
       "    <tr>\n",
       "      <th>10</th>\n",
       "      <td>10</td>\n",
       "      <td>10</td>\n",
       "    </tr>\n",
       "    <tr>\n",
       "      <th>11</th>\n",
       "      <td>11</td>\n",
       "      <td>4</td>\n",
       "    </tr>\n",
       "    <tr>\n",
       "      <th>12</th>\n",
       "      <td>12</td>\n",
       "      <td>2</td>\n",
       "    </tr>\n",
       "    <tr>\n",
       "      <th>13</th>\n",
       "      <td>13</td>\n",
       "      <td>0</td>\n",
       "    </tr>\n",
       "    <tr>\n",
       "      <th>14</th>\n",
       "      <td>14</td>\n",
       "      <td>0</td>\n",
       "    </tr>\n",
       "  </tbody>\n",
       "</table>\n",
       "</div>"
      ],
      "text/plain": [
       "    counts  observe\n",
       "0        0       57\n",
       "1        1      203\n",
       "2        2      383\n",
       "3        3      525\n",
       "4        4      532\n",
       "5        5      408\n",
       "6        6      273\n",
       "7        7      139\n",
       "8        8       45\n",
       "9        9       27\n",
       "10      10       10\n",
       "11      11        4\n",
       "12      12        2\n",
       "13      13        0\n",
       "14      14        0"
      ]
     },
     "execution_count": 3,
     "metadata": {},
     "output_type": "execute_result"
    }
   ],
   "source": [
    "import numpy as np\n",
    "import pandas as pd\n",
    "from scipy import stats\n",
    "\n",
    "# 原始数据\n",
    "data = {\n",
    "    'counts': list(range(15)), \n",
    "    'observe': [57, 203, 383, 525, 532, 408, 273, 139, 45, 27, 10, 4, 2, 0, 0]\n",
    "    }\n",
    "df = pd.DataFrame(data)\n",
    "df\n"
   ]
  },
  {
   "cell_type": "code",
   "execution_count": 4,
   "metadata": {},
   "outputs": [
    {
     "data": {
      "text/html": [
       "<div>\n",
       "<style scoped>\n",
       "    .dataframe tbody tr th:only-of-type {\n",
       "        vertical-align: middle;\n",
       "    }\n",
       "\n",
       "    .dataframe tbody tr th {\n",
       "        vertical-align: top;\n",
       "    }\n",
       "\n",
       "    .dataframe thead th {\n",
       "        text-align: right;\n",
       "    }\n",
       "</style>\n",
       "<table border=\"1\" class=\"dataframe\">\n",
       "  <thead>\n",
       "    <tr style=\"text-align: right;\">\n",
       "      <th></th>\n",
       "      <th>counts</th>\n",
       "      <th>observe</th>\n",
       "    </tr>\n",
       "  </thead>\n",
       "  <tbody>\n",
       "    <tr>\n",
       "      <th>0</th>\n",
       "      <td>0</td>\n",
       "      <td>57</td>\n",
       "    </tr>\n",
       "    <tr>\n",
       "      <th>1</th>\n",
       "      <td>1</td>\n",
       "      <td>203</td>\n",
       "    </tr>\n",
       "    <tr>\n",
       "      <th>2</th>\n",
       "      <td>2</td>\n",
       "      <td>383</td>\n",
       "    </tr>\n",
       "    <tr>\n",
       "      <th>3</th>\n",
       "      <td>3</td>\n",
       "      <td>525</td>\n",
       "    </tr>\n",
       "    <tr>\n",
       "      <th>4</th>\n",
       "      <td>4</td>\n",
       "      <td>532</td>\n",
       "    </tr>\n",
       "    <tr>\n",
       "      <th>5</th>\n",
       "      <td>5</td>\n",
       "      <td>408</td>\n",
       "    </tr>\n",
       "    <tr>\n",
       "      <th>6</th>\n",
       "      <td>6</td>\n",
       "      <td>273</td>\n",
       "    </tr>\n",
       "    <tr>\n",
       "      <th>7</th>\n",
       "      <td>7</td>\n",
       "      <td>139</td>\n",
       "    </tr>\n",
       "    <tr>\n",
       "      <th>8</th>\n",
       "      <td>8</td>\n",
       "      <td>45</td>\n",
       "    </tr>\n",
       "    <tr>\n",
       "      <th>9</th>\n",
       "      <td>9</td>\n",
       "      <td>27</td>\n",
       "    </tr>\n",
       "    <tr>\n",
       "      <th>10</th>\n",
       "      <td>10</td>\n",
       "      <td>10</td>\n",
       "    </tr>\n",
       "    <tr>\n",
       "      <th>11</th>\n",
       "      <td>11</td>\n",
       "      <td>6</td>\n",
       "    </tr>\n",
       "  </tbody>\n",
       "</table>\n",
       "</div>"
      ],
      "text/plain": [
       "    counts  observe\n",
       "0        0       57\n",
       "1        1      203\n",
       "2        2      383\n",
       "3        3      525\n",
       "4        4      532\n",
       "5        5      408\n",
       "6        6      273\n",
       "7        7      139\n",
       "8        8       45\n",
       "9        9       27\n",
       "10      10       10\n",
       "11      11        6"
      ]
     },
     "execution_count": 4,
     "metadata": {},
     "output_type": "execute_result"
    }
   ],
   "source": [
    "# 将实际频数小于5的类别合并\n",
    "df.iloc[11, 1] = 6\n",
    "df = df[:12]\n",
    "df\n"
   ]
  },
  {
   "cell_type": "markdown",
   "metadata": {},
   "source": [
    "注意：这里的counts=11实际上是大于等于11的类，因此在计算它的$p_i$时，不应当计算为$ p_i=P\\left( X=11 \\right)$，而应当是$p_i=P\\left( X\\geqslant 11 \\right) =1-P\\left( X<11 \\right) $"
   ]
  },
  {
   "cell_type": "code",
   "execution_count": 6,
   "metadata": {},
   "outputs": [
    {
     "name": "stderr",
     "output_type": "stream",
     "text": [
      "/var/folders/2y/ry51c2sj4b19kjfjm90j1gv80000gn/T/ipykernel_17224/3119775771.py:3: SettingWithCopyWarning: \n",
      "A value is trying to be set on a copy of a slice from a DataFrame.\n",
      "Try using .loc[row_indexer,col_indexer] = value instead\n",
      "\n",
      "See the caveats in the documentation: https://pandas.pydata.org/pandas-docs/stable/user_guide/indexing.html#returning-a-view-versus-a-copy\n",
      "  df['prop'] = Poiss.pmf(df['counts'])  # pmf函数可以根据输入的自变量，输出对应的概率（也就是理论频率）\n",
      "/var/folders/2y/ry51c2sj4b19kjfjm90j1gv80000gn/T/ipykernel_17224/3119775771.py:11: SettingWithCopyWarning: \n",
      "A value is trying to be set on a copy of a slice from a DataFrame.\n",
      "Try using .loc[row_indexer,col_indexer] = value instead\n",
      "\n",
      "See the caveats in the documentation: https://pandas.pydata.org/pandas-docs/stable/user_guide/indexing.html#returning-a-view-versus-a-copy\n",
      "  df['T_counts'] = 2608*df['prop']\n"
     ]
    },
    {
     "data": {
      "text/html": [
       "<div>\n",
       "<style scoped>\n",
       "    .dataframe tbody tr th:only-of-type {\n",
       "        vertical-align: middle;\n",
       "    }\n",
       "\n",
       "    .dataframe tbody tr th {\n",
       "        vertical-align: top;\n",
       "    }\n",
       "\n",
       "    .dataframe thead th {\n",
       "        text-align: right;\n",
       "    }\n",
       "</style>\n",
       "<table border=\"1\" class=\"dataframe\">\n",
       "  <thead>\n",
       "    <tr style=\"text-align: right;\">\n",
       "      <th></th>\n",
       "      <th>counts</th>\n",
       "      <th>observe</th>\n",
       "      <th>prop</th>\n",
       "      <th>T_counts</th>\n",
       "    </tr>\n",
       "  </thead>\n",
       "  <tbody>\n",
       "    <tr>\n",
       "      <th>0</th>\n",
       "      <td>0</td>\n",
       "      <td>57</td>\n",
       "      <td>0.020858</td>\n",
       "      <td>54.398627</td>\n",
       "    </tr>\n",
       "    <tr>\n",
       "      <th>1</th>\n",
       "      <td>1</td>\n",
       "      <td>203</td>\n",
       "      <td>0.080722</td>\n",
       "      <td>210.522688</td>\n",
       "    </tr>\n",
       "    <tr>\n",
       "      <th>2</th>\n",
       "      <td>2</td>\n",
       "      <td>383</td>\n",
       "      <td>0.156197</td>\n",
       "      <td>407.361402</td>\n",
       "    </tr>\n",
       "    <tr>\n",
       "      <th>3</th>\n",
       "      <td>3</td>\n",
       "      <td>525</td>\n",
       "      <td>0.201494</td>\n",
       "      <td>525.496208</td>\n",
       "    </tr>\n",
       "    <tr>\n",
       "      <th>4</th>\n",
       "      <td>4</td>\n",
       "      <td>532</td>\n",
       "      <td>0.194945</td>\n",
       "      <td>508.417582</td>\n",
       "    </tr>\n",
       "    <tr>\n",
       "      <th>5</th>\n",
       "      <td>5</td>\n",
       "      <td>408</td>\n",
       "      <td>0.150888</td>\n",
       "      <td>393.515208</td>\n",
       "    </tr>\n",
       "    <tr>\n",
       "      <th>6</th>\n",
       "      <td>6</td>\n",
       "      <td>273</td>\n",
       "      <td>0.097323</td>\n",
       "      <td>253.817309</td>\n",
       "    </tr>\n",
       "    <tr>\n",
       "      <th>7</th>\n",
       "      <td>7</td>\n",
       "      <td>139</td>\n",
       "      <td>0.053805</td>\n",
       "      <td>140.324712</td>\n",
       "    </tr>\n",
       "    <tr>\n",
       "      <th>8</th>\n",
       "      <td>8</td>\n",
       "      <td>45</td>\n",
       "      <td>0.026028</td>\n",
       "      <td>67.882080</td>\n",
       "    </tr>\n",
       "    <tr>\n",
       "      <th>9</th>\n",
       "      <td>9</td>\n",
       "      <td>27</td>\n",
       "      <td>0.011192</td>\n",
       "      <td>29.189294</td>\n",
       "    </tr>\n",
       "    <tr>\n",
       "      <th>10</th>\n",
       "      <td>10</td>\n",
       "      <td>10</td>\n",
       "      <td>0.004331</td>\n",
       "      <td>11.296257</td>\n",
       "    </tr>\n",
       "    <tr>\n",
       "      <th>11</th>\n",
       "      <td>11</td>\n",
       "      <td>6</td>\n",
       "      <td>0.002216</td>\n",
       "      <td>5.778632</td>\n",
       "    </tr>\n",
       "  </tbody>\n",
       "</table>\n",
       "</div>"
      ],
      "text/plain": [
       "    counts  observe      prop    T_counts\n",
       "0        0       57  0.020858   54.398627\n",
       "1        1      203  0.080722  210.522688\n",
       "2        2      383  0.156197  407.361402\n",
       "3        3      525  0.201494  525.496208\n",
       "4        4      532  0.194945  508.417582\n",
       "5        5      408  0.150888  393.515208\n",
       "6        6      273  0.097323  253.817309\n",
       "7        7      139  0.053805  140.324712\n",
       "8        8       45  0.026028   67.882080\n",
       "9        9       27  0.011192   29.189294\n",
       "10      10       10  0.004331   11.296257\n",
       "11      11        6  0.002216    5.778632"
      ]
     },
     "execution_count": 6,
     "metadata": {},
     "output_type": "execute_result"
    }
   ],
   "source": [
    "# 根据自变量count的值计算每个自变量对应的理论频率\n",
    "Poiss = stats.poisson(mu=3.87)\n",
    "df['prop'] = Poiss.pmf(df['counts'])  # pmf函数可以根据输入的自变量，输出对应的概率（也就是理论频率）\n",
    "\n",
    "# 上述“注意”的修正\n",
    "# 修正：由于数据框中counts=11实际上是大于等于11，因此在这里修正counts大于11对应的概率\n",
    "df.iloc[11, 2] = 1-Poiss.cdf(10)\n",
    "# cdf函数为左侧累积概率函数\n",
    "\n",
    "# 用理论频率乘样本数，就可以得到理论频数\n",
    "df['T_counts'] = 2608*df['prop']\n",
    "df\n"
   ]
  },
  {
   "cell_type": "code",
   "execution_count": 7,
   "metadata": {},
   "outputs": [
    {
     "data": {
      "text/plain": [
       "Power_divergenceResult(statistic=12.974499243253577, pvalue=0.22510109028079536)"
      ]
     },
     "execution_count": 7,
     "metadata": {},
     "output_type": "execute_result"
    }
   ],
   "source": [
    "# 用卡方检验，比较实际频数与理论频数的差别，就可以检验出数据是否服从泊松分布\n",
    "# 若理论频数不是“期望值”，则需要输入我们自己定义的理论频数\n",
    "chi = stats.chisquare(df['observe'], df['T_counts'], ddof=1)\n",
    "chi\n"
   ]
  },
  {
   "cell_type": "markdown",
   "metadata": {},
   "source": [
    "p值约为0.225，不能拒绝原假设，因此我们可以认为样本的总体服从泊松分布。"
   ]
  },
  {
   "cell_type": "markdown",
   "metadata": {},
   "source": [
    "## 4.3 双因素列联表的检验"
   ]
  },
  {
   "cell_type": "markdown",
   "metadata": {},
   "source": [
    "列联表检验常见的应用是两个特征的独立性检验与一致性检验，这两种检验虽然问题不同，但是检验的原理是完全一样的：即比较绝对频数与表格中每个格子的“期望值”的差异。\n",
    "\n",
    "在列联表中，每个单元格个期望值计算非常简单：单元格所在行的行样本数乘单元格所在列的列样本数再除以样本总数，即有\n",
    "$$\n",
    "\\text { expectedFrequency }=\\frac{\\text { RowTotal } \\times \\text { ColumnTotal }}{n}\n",
    "$$\n",
    "我们以这个列联表为例\n",
    "\n",
    "<img src=\"./images/双因素列联表.png\">\n",
    "\n",
    "单元格男性右利手的期望值为52*87/100=45.2。"
   ]
  },
  {
   "cell_type": "markdown",
   "metadata": {},
   "source": [
    "### 4.3.1 两个特征维度的独立性检验"
   ]
  },
  {
   "cell_type": "markdown",
   "metadata": {},
   "source": [
    "独立性检验的是两个特征之间是否独立，一个变量作行，一个变量为列。\n",
    "\n",
    "以上述的男女性/左右利手问题为例，我们可以检验性别特征与左右利手特征是否独立。"
   ]
  },
  {
   "cell_type": "markdown",
   "metadata": {},
   "source": [
    "#### 卡方检验"
   ]
  },
  {
   "cell_type": "code",
   "execution_count": 8,
   "metadata": {},
   "outputs": [
    {
     "name": "stdout",
     "output_type": "stream",
     "text": [
      "[[43  9]\n",
      " [44  4]]\n"
     ]
    }
   ],
   "source": [
    "obs1 = np.array([[43, 9], [44, 4]])\n",
    "print(obs1)\n"
   ]
  },
  {
   "cell_type": "code",
   "execution_count": 9,
   "metadata": {},
   "outputs": [],
   "source": [
    "# 定义一个函数，使它可以输出连续性校正/未校正卡方检验的p值，以及期望频数表\n",
    "def chiSquare(data):\n",
    "    from scipy.stats import chi2_contingency\n",
    "    chi2_corrected = stats.chi2_contingency(data, correction=True)  # 连续性校正\n",
    "    chi2_uncorrected = stats.chi2_contingency(data, correction=False)  # 非连续性校正\n",
    "\n",
    "    print('Pearson卡方检验的p值为：{}'.format(chi2_uncorrected[1]))\n",
    "    print('连续性校正的卡方检验的p值为：{}'.format(chi2_corrected[1]))\n",
    "    print('-----------------------------------------------')\n",
    "    print('期望频数表：')\n",
    "    print(chi2_corrected[3])\n"
   ]
  },
  {
   "cell_type": "code",
   "execution_count": 10,
   "metadata": {},
   "outputs": [
    {
     "name": "stdout",
     "output_type": "stream",
     "text": [
      "Pearson卡方检验的p值为：0.1824670652605479\n",
      "连续性校正的卡方检验的p值为：0.300384770390566\n",
      "-----------------------------------------------\n",
      "期望频数表：\n",
      "[[45.24  6.76]\n",
      " [41.76  6.24]]\n"
     ]
    }
   ],
   "source": [
    "chiSquare(obs1)"
   ]
  },
  {
   "cell_type": "markdown",
   "metadata": {},
   "source": [
    "由于期望频数都大于5，因此我们应该使用非校正的卡方检验。p值约为0.3，无法拒绝原假设，即两种特征独立。"
   ]
  },
  {
   "cell_type": "markdown",
   "metadata": {},
   "source": [
    "#### Fisher检验"
   ]
  },
  {
   "cell_type": "markdown",
   "metadata": {},
   "source": [
    "使用Fisher检验解决上面的例子。"
   ]
  },
  {
   "cell_type": "code",
   "execution_count": 11,
   "metadata": {},
   "outputs": [],
   "source": [
    "def fisherExact(data,confidence=0.05):\n",
    "    from scipy.stats import fisher_exact\n",
    "    fisher_pvalue=fisher_exact(data)[1]\n",
    "\n",
    "    if fisher_pvalue<confidence:\n",
    "        print('在显著性水平{0:}下，可以拒绝原假设(p={1:.4f})'.format(confidence,fisher_pvalue))\n",
    "    else:\n",
    "        print('在显著性水平{0:}下，不可以拒绝原假设(p={1:.4f})'.format(confidence,fisher_pvalue))"
   ]
  },
  {
   "cell_type": "code",
   "execution_count": 12,
   "metadata": {},
   "outputs": [
    {
     "name": "stdout",
     "output_type": "stream",
     "text": [
      "在显著性水平0.05下，不可以拒绝原假设(p=0.2392)\n"
     ]
    }
   ],
   "source": [
    "fisherExact(obs1)"
   ]
  },
  {
   "cell_type": "markdown",
   "metadata": {},
   "source": [
    "### 4.2 统一性检验"
   ]
  },
  {
   "cell_type": "markdown",
   "metadata": {},
   "source": [
    "统一性检验的问题是：两个或两个以上总体的**某一**特征分布，也就是各类别的比例是否统一或相近。\n",
    "\n",
    "这么说可能有点抽象，我们举个例子大家就明白了。\n",
    "\n",
    "**Example.12** 某公司想了解南京和北京的市民对最低生活保障的满意程度是否相同，调查结果如下所示\n",
    "\n",
    "<img src=\"./images/统一性.png\">\n",
    "\n",
    "在这个例子中，我们分析的是南京与北京这两个总体的一个特征“最低生活保障的满意程度”分布是否统一。"
   ]
  },
  {
   "cell_type": "markdown",
   "metadata": {},
   "source": [
    "#### 卡方检验"
   ]
  },
  {
   "cell_type": "code",
   "execution_count": 11,
   "metadata": {},
   "outputs": [
    {
     "name": "stdout",
     "output_type": "stream",
     "text": [
      "[[100 110]\n",
      " [150 160]\n",
      " [180 170]\n",
      " [170 160]]\n",
      "Pearson卡方检验的p值为：0.708463710032442\n",
      "连续性校正的卡方检验的p值为：0.708463710032442\n",
      "-----------------------------------------------\n",
      "期望频数表：\n",
      "[[105. 105.]\n",
      " [155. 155.]\n",
      " [175. 175.]\n",
      " [165. 165.]]\n"
     ]
    }
   ],
   "source": [
    "obs2 = np.array([[100, 110], [150, 160], [180, 170], [170, 160]])\n",
    "print(obs2)\n",
    "chiSquare(obs2)\n"
   ]
  },
  {
   "cell_type": "markdown",
   "metadata": {},
   "source": [
    "由于期望频数都大于5，因此我们应该使用非校正的卡方检验。p值约为0.7，无法拒绝原假设，即两个城市的市民对最低生活保障的满意程度是相同的。"
   ]
  },
  {
   "cell_type": "markdown",
   "metadata": {},
   "source": [
    "# 作业"
   ]
  },
  {
   "cell_type": "markdown",
   "metadata": {},
   "source": [
    "一个淘宝网购商家搜集了一年中每天的订单数$X$，除去春节期间及双十一前后外，按330天记\n",
    "\n",
    "请用卡方分布验证订单数是否泊松分布。已知：通过极大似然估计得知泊松分布参数$\\lambda=5.3$"
   ]
  },
  {
   "cell_type": "code",
   "execution_count": 1,
   "metadata": {},
   "outputs": [],
   "source": [
    "# 加载必要的包\n",
    "import numpy as np\n",
    "import pandas as pd\n",
    "from scipy import stats\n",
    "import matplotlib.pyplot as plt\n",
    "from IPython.display import display\n"
   ]
  },
  {
   "cell_type": "code",
   "execution_count": 2,
   "metadata": {},
   "outputs": [
    {
     "data": {
      "text/html": [
       "<div>\n",
       "<style scoped>\n",
       "    .dataframe tbody tr th:only-of-type {\n",
       "        vertical-align: middle;\n",
       "    }\n",
       "\n",
       "    .dataframe tbody tr th {\n",
       "        vertical-align: top;\n",
       "    }\n",
       "\n",
       "    .dataframe thead th {\n",
       "        text-align: right;\n",
       "    }\n",
       "</style>\n",
       "<table border=\"1\" class=\"dataframe\">\n",
       "  <thead>\n",
       "    <tr style=\"text-align: right;\">\n",
       "      <th></th>\n",
       "      <th>counts</th>\n",
       "      <th>observe</th>\n",
       "    </tr>\n",
       "  </thead>\n",
       "  <tbody>\n",
       "    <tr>\n",
       "      <th>0</th>\n",
       "      <td>0</td>\n",
       "      <td>3</td>\n",
       "    </tr>\n",
       "    <tr>\n",
       "      <th>1</th>\n",
       "      <td>1</td>\n",
       "      <td>6</td>\n",
       "    </tr>\n",
       "    <tr>\n",
       "      <th>2</th>\n",
       "      <td>2</td>\n",
       "      <td>21</td>\n",
       "    </tr>\n",
       "    <tr>\n",
       "      <th>3</th>\n",
       "      <td>3</td>\n",
       "      <td>46</td>\n",
       "    </tr>\n",
       "    <tr>\n",
       "      <th>4</th>\n",
       "      <td>4</td>\n",
       "      <td>48</td>\n",
       "    </tr>\n",
       "    <tr>\n",
       "      <th>5</th>\n",
       "      <td>5</td>\n",
       "      <td>61</td>\n",
       "    </tr>\n",
       "    <tr>\n",
       "      <th>6</th>\n",
       "      <td>6</td>\n",
       "      <td>52</td>\n",
       "    </tr>\n",
       "    <tr>\n",
       "      <th>7</th>\n",
       "      <td>7</td>\n",
       "      <td>42</td>\n",
       "    </tr>\n",
       "    <tr>\n",
       "      <th>8</th>\n",
       "      <td>8</td>\n",
       "      <td>27</td>\n",
       "    </tr>\n",
       "    <tr>\n",
       "      <th>9</th>\n",
       "      <td>9</td>\n",
       "      <td>11</td>\n",
       "    </tr>\n",
       "    <tr>\n",
       "      <th>10</th>\n",
       "      <td>10</td>\n",
       "      <td>6</td>\n",
       "    </tr>\n",
       "    <tr>\n",
       "      <th>11</th>\n",
       "      <td>11</td>\n",
       "      <td>4</td>\n",
       "    </tr>\n",
       "    <tr>\n",
       "      <th>12</th>\n",
       "      <td>12</td>\n",
       "      <td>2</td>\n",
       "    </tr>\n",
       "    <tr>\n",
       "      <th>13</th>\n",
       "      <td>13</td>\n",
       "      <td>1</td>\n",
       "    </tr>\n",
       "    <tr>\n",
       "      <th>14</th>\n",
       "      <td>14</td>\n",
       "      <td>1</td>\n",
       "    </tr>\n",
       "    <tr>\n",
       "      <th>15</th>\n",
       "      <td>15</td>\n",
       "      <td>1</td>\n",
       "    </tr>\n",
       "  </tbody>\n",
       "</table>\n",
       "</div>"
      ],
      "text/plain": [
       "    counts  observe\n",
       "0        0        3\n",
       "1        1        6\n",
       "2        2       21\n",
       "3        3       46\n",
       "4        4       48\n",
       "5        5       61\n",
       "6        6       52\n",
       "7        7       42\n",
       "8        8       27\n",
       "9        9       11\n",
       "10      10        6\n",
       "11      11        4\n",
       "12      12        2\n",
       "13      13        1\n",
       "14      14        1\n",
       "15      15        1"
      ]
     },
     "execution_count": 2,
     "metadata": {},
     "output_type": "execute_result"
    }
   ],
   "source": [
    "# 原始数据\n",
    "data = {'counts': list(range(16)), 'observe':[3,6,21,46,48,61,52,42,27,11,6,4,2,1,1,1]}\n",
    "df = pd.DataFrame(data)\n",
    "df\n"
   ]
  },
  {
   "cell_type": "code",
   "execution_count": 3,
   "metadata": {},
   "outputs": [
    {
     "data": {
      "text/html": [
       "<div>\n",
       "<style scoped>\n",
       "    .dataframe tbody tr th:only-of-type {\n",
       "        vertical-align: middle;\n",
       "    }\n",
       "\n",
       "    .dataframe tbody tr th {\n",
       "        vertical-align: top;\n",
       "    }\n",
       "\n",
       "    .dataframe thead th {\n",
       "        text-align: right;\n",
       "    }\n",
       "</style>\n",
       "<table border=\"1\" class=\"dataframe\">\n",
       "  <thead>\n",
       "    <tr style=\"text-align: right;\">\n",
       "      <th></th>\n",
       "      <th>counts</th>\n",
       "      <th>observe</th>\n",
       "    </tr>\n",
       "  </thead>\n",
       "  <tbody>\n",
       "    <tr>\n",
       "      <th>0</th>\n",
       "      <td>0</td>\n",
       "      <td>3</td>\n",
       "    </tr>\n",
       "    <tr>\n",
       "      <th>1</th>\n",
       "      <td>1</td>\n",
       "      <td>6</td>\n",
       "    </tr>\n",
       "    <tr>\n",
       "      <th>2</th>\n",
       "      <td>2</td>\n",
       "      <td>21</td>\n",
       "    </tr>\n",
       "    <tr>\n",
       "      <th>3</th>\n",
       "      <td>3</td>\n",
       "      <td>46</td>\n",
       "    </tr>\n",
       "    <tr>\n",
       "      <th>4</th>\n",
       "      <td>4</td>\n",
       "      <td>48</td>\n",
       "    </tr>\n",
       "    <tr>\n",
       "      <th>5</th>\n",
       "      <td>5</td>\n",
       "      <td>61</td>\n",
       "    </tr>\n",
       "    <tr>\n",
       "      <th>6</th>\n",
       "      <td>6</td>\n",
       "      <td>52</td>\n",
       "    </tr>\n",
       "    <tr>\n",
       "      <th>7</th>\n",
       "      <td>7</td>\n",
       "      <td>42</td>\n",
       "    </tr>\n",
       "    <tr>\n",
       "      <th>8</th>\n",
       "      <td>8</td>\n",
       "      <td>27</td>\n",
       "    </tr>\n",
       "    <tr>\n",
       "      <th>9</th>\n",
       "      <td>9</td>\n",
       "      <td>11</td>\n",
       "    </tr>\n",
       "    <tr>\n",
       "      <th>10</th>\n",
       "      <td>10</td>\n",
       "      <td>6</td>\n",
       "    </tr>\n",
       "    <tr>\n",
       "      <th>11</th>\n",
       "      <td>11</td>\n",
       "      <td>9</td>\n",
       "    </tr>\n",
       "  </tbody>\n",
       "</table>\n",
       "</div>"
      ],
      "text/plain": [
       "    counts  observe\n",
       "0        0        3\n",
       "1        1        6\n",
       "2        2       21\n",
       "3        3       46\n",
       "4        4       48\n",
       "5        5       61\n",
       "6        6       52\n",
       "7        7       42\n",
       "8        8       27\n",
       "9        9       11\n",
       "10      10        6\n",
       "11      11        9"
      ]
     },
     "execution_count": 3,
     "metadata": {},
     "output_type": "execute_result"
    }
   ],
   "source": [
    "# 将实际频数小于5的类别合并\n",
    "df.loc[11,'observe']=9\n",
    "df=df[:12]\n",
    "df\n"
   ]
  },
  {
   "cell_type": "code",
   "execution_count": 4,
   "metadata": {},
   "outputs": [
    {
     "data": {
      "text/plain": [
       "332"
      ]
     },
     "execution_count": 4,
     "metadata": {},
     "output_type": "execute_result"
    }
   ],
   "source": [
    "df.observe.sum()\n"
   ]
  },
  {
   "cell_type": "code",
   "execution_count": 6,
   "metadata": {},
   "outputs": [
    {
     "name": "stderr",
     "output_type": "stream",
     "text": [
      "/var/folders/2y/ry51c2sj4b19kjfjm90j1gv80000gn/T/ipykernel_7002/204384241.py:3: SettingWithCopyWarning: \n",
      "A value is trying to be set on a copy of a slice from a DataFrame.\n",
      "Try using .loc[row_indexer,col_indexer] = value instead\n",
      "\n",
      "See the caveats in the documentation: https://pandas.pydata.org/pandas-docs/stable/user_guide/indexing.html#returning-a-view-versus-a-copy\n",
      "  df['prop'] = Poiss.pmf(df['counts'])  # pmf函数可以根据输入的自变量，输出对应的概率（也就是理论频率）\n",
      "/var/folders/2y/ry51c2sj4b19kjfjm90j1gv80000gn/T/ipykernel_7002/204384241.py:11: SettingWithCopyWarning: \n",
      "A value is trying to be set on a copy of a slice from a DataFrame.\n",
      "Try using .loc[row_indexer,col_indexer] = value instead\n",
      "\n",
      "See the caveats in the documentation: https://pandas.pydata.org/pandas-docs/stable/user_guide/indexing.html#returning-a-view-versus-a-copy\n",
      "  df['T_counts'] = 332*df['prop']\n"
     ]
    },
    {
     "data": {
      "text/html": [
       "<div>\n",
       "<style scoped>\n",
       "    .dataframe tbody tr th:only-of-type {\n",
       "        vertical-align: middle;\n",
       "    }\n",
       "\n",
       "    .dataframe tbody tr th {\n",
       "        vertical-align: top;\n",
       "    }\n",
       "\n",
       "    .dataframe thead th {\n",
       "        text-align: right;\n",
       "    }\n",
       "</style>\n",
       "<table border=\"1\" class=\"dataframe\">\n",
       "  <thead>\n",
       "    <tr style=\"text-align: right;\">\n",
       "      <th></th>\n",
       "      <th>counts</th>\n",
       "      <th>observe</th>\n",
       "      <th>prop</th>\n",
       "      <th>T_counts</th>\n",
       "    </tr>\n",
       "  </thead>\n",
       "  <tbody>\n",
       "    <tr>\n",
       "      <th>0</th>\n",
       "      <td>0</td>\n",
       "      <td>3</td>\n",
       "      <td>0.004992</td>\n",
       "      <td>1.657209</td>\n",
       "    </tr>\n",
       "    <tr>\n",
       "      <th>1</th>\n",
       "      <td>1</td>\n",
       "      <td>6</td>\n",
       "      <td>0.026455</td>\n",
       "      <td>8.783209</td>\n",
       "    </tr>\n",
       "    <tr>\n",
       "      <th>2</th>\n",
       "      <td>2</td>\n",
       "      <td>21</td>\n",
       "      <td>0.070107</td>\n",
       "      <td>23.275503</td>\n",
       "    </tr>\n",
       "    <tr>\n",
       "      <th>3</th>\n",
       "      <td>3</td>\n",
       "      <td>46</td>\n",
       "      <td>0.123856</td>\n",
       "      <td>41.120055</td>\n",
       "    </tr>\n",
       "    <tr>\n",
       "      <th>4</th>\n",
       "      <td>4</td>\n",
       "      <td>48</td>\n",
       "      <td>0.164109</td>\n",
       "      <td>54.484073</td>\n",
       "    </tr>\n",
       "    <tr>\n",
       "      <th>5</th>\n",
       "      <td>5</td>\n",
       "      <td>61</td>\n",
       "      <td>0.173955</td>\n",
       "      <td>57.753117</td>\n",
       "    </tr>\n",
       "    <tr>\n",
       "      <th>6</th>\n",
       "      <td>6</td>\n",
       "      <td>52</td>\n",
       "      <td>0.153660</td>\n",
       "      <td>51.015254</td>\n",
       "    </tr>\n",
       "    <tr>\n",
       "      <th>7</th>\n",
       "      <td>7</td>\n",
       "      <td>42</td>\n",
       "      <td>0.116343</td>\n",
       "      <td>38.625835</td>\n",
       "    </tr>\n",
       "    <tr>\n",
       "      <th>8</th>\n",
       "      <td>8</td>\n",
       "      <td>27</td>\n",
       "      <td>0.077077</td>\n",
       "      <td>25.589616</td>\n",
       "    </tr>\n",
       "    <tr>\n",
       "      <th>9</th>\n",
       "      <td>9</td>\n",
       "      <td>11</td>\n",
       "      <td>0.045390</td>\n",
       "      <td>15.069440</td>\n",
       "    </tr>\n",
       "    <tr>\n",
       "      <th>10</th>\n",
       "      <td>10</td>\n",
       "      <td>6</td>\n",
       "      <td>0.024057</td>\n",
       "      <td>7.986803</td>\n",
       "    </tr>\n",
       "    <tr>\n",
       "      <th>11</th>\n",
       "      <td>11</td>\n",
       "      <td>9</td>\n",
       "      <td>0.020000</td>\n",
       "      <td>6.639886</td>\n",
       "    </tr>\n",
       "  </tbody>\n",
       "</table>\n",
       "</div>"
      ],
      "text/plain": [
       "    counts  observe      prop   T_counts\n",
       "0        0        3  0.004992   1.657209\n",
       "1        1        6  0.026455   8.783209\n",
       "2        2       21  0.070107  23.275503\n",
       "3        3       46  0.123856  41.120055\n",
       "4        4       48  0.164109  54.484073\n",
       "5        5       61  0.173955  57.753117\n",
       "6        6       52  0.153660  51.015254\n",
       "7        7       42  0.116343  38.625835\n",
       "8        8       27  0.077077  25.589616\n",
       "9        9       11  0.045390  15.069440\n",
       "10      10        6  0.024057   7.986803\n",
       "11      11        9  0.020000   6.639886"
      ]
     },
     "execution_count": 6,
     "metadata": {},
     "output_type": "execute_result"
    }
   ],
   "source": [
    "# 根据自变量count的值计算每个自变量对应的理论频率\n",
    "Poiss = stats.poisson(mu=5.3)\n",
    "df['prop'] = Poiss.pmf(df['counts'])  # pmf函数可以根据输入的自变量，输出对应的概率（也就是理论频率）\n",
    "\n",
    "# 上述“注意”的修正\n",
    "# 修正：由于数据框中counts=11实际上是大于等于11，因此在这里修正counts大于11对应的概率\n",
    "df.loc[11, 'prop'] = 1-Poiss.cdf(10)\n",
    "# cdf函数为左侧累积概率函数\n",
    "\n",
    "# 用理论频率乘样本数，就可以得到理论频数\n",
    "df['T_counts'] = 332*df['prop']\n",
    "df\n"
   ]
  },
  {
   "cell_type": "code",
   "execution_count": 7,
   "metadata": {},
   "outputs": [
    {
     "data": {
      "text/plain": [
       "Power_divergenceResult(statistic=6.54931560631171, pvalue=0.7671964728117744)"
      ]
     },
     "execution_count": 7,
     "metadata": {},
     "output_type": "execute_result"
    }
   ],
   "source": [
    "# 用卡方检验，比较实际频数与理论频数的差别，就可以检验出数据是否服从泊松分布\n",
    "# 若理论频数不是“期望值”，则需要输入我们自己定义的理论频数\n",
    "chi = stats.chisquare(df['observe'], df['T_counts'], ddof=1)\n",
    "chi\n"
   ]
  },
  {
   "cell_type": "markdown",
   "metadata": {},
   "source": [
    "p值约为0.767，不能拒绝原假设，因此我们可以认为样本的总体服从泊松分布。"
   ]
  }
 ],
 "metadata": {
  "kernelspec": {
   "display_name": "Python 3.9.12 ('base')",
   "language": "python",
   "name": "python3"
  },
  "language_info": {
   "codemirror_mode": {
    "name": "ipython",
    "version": 3
   },
   "file_extension": ".py",
   "mimetype": "text/x-python",
   "name": "python",
   "nbconvert_exporter": "python",
   "pygments_lexer": "ipython3",
   "version": "3.9.12"
  },
  "orig_nbformat": 4,
  "vscode": {
   "interpreter": {
    "hash": "e7462960952c18043ec81f8ef2863e2b6fdefa5163539d36ab59a26a80c3ecc2"
   }
  }
 },
 "nbformat": 4,
 "nbformat_minor": 2
}
