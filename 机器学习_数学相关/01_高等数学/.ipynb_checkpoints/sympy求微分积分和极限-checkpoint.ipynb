{
 "cells": [
  {
   "cell_type": "code",
   "execution_count": 1,
   "id": "c88abd94",
   "metadata": {},
   "outputs": [
    {
     "ename": "NameError",
     "evalue": "name 'diff' is not defined",
     "output_type": "error",
     "traceback": [
      "\u001b[1;31m---------------------------------------------------------------------------\u001b[0m",
      "\u001b[1;31mNameError\u001b[0m                                 Traceback (most recent call last)",
      "Input \u001b[1;32mIn [1]\u001b[0m, in \u001b[0;36m<cell line: 3>\u001b[1;34m()\u001b[0m\n\u001b[0;32m      1\u001b[0m \u001b[38;5;28;01mimport\u001b[39;00m \u001b[38;5;21;01msymbol\u001b[39;00m\n\u001b[1;32m----> 3\u001b[0m \u001b[43mdiff\u001b[49m(exp(\u001b[38;5;241m-\u001b[39mx) \u001b[38;5;241m*\u001b[39m cos(\u001b[38;5;241m3\u001b[39m\u001b[38;5;241m-\u001b[39mx))\n",
      "\u001b[1;31mNameError\u001b[0m: name 'diff' is not defined"
     ]
    }
   ],
   "source": [
    "from sympy import *\n",
    "\n",
    "n = symbols('n')\n",
    "y = 1250*(2-exp(-(n-5000)**2))\n",
    "\n",
    "func1 = diff(y,n) # 求导数\n",
    "func1\n",
    "\n",
    "x = symbols('x')  # x为符号变量\n",
    "# 求微分即求导数使用的函数是diff()\n",
    "diff(exp(-x) * cos(3-x))\n",
    "\n"
   ]
  },
  {
   "cell_type": "markdown",
   "id": "24826831",
   "metadata": {},
   "source": [
    "### 1. 求微分-diff()\n",
    "一阶微分: diff(expr, x)\n",
    "\n",
    "多阶微分: diff(expr, x, n)\n",
    "\n",
    "多变量微分: diff(expr, x, y, ..)"
   ]
  },
  {
   "cell_type": "markdown",
   "id": "71e42026",
   "metadata": {},
   "source": [
    "#### 1.1 求解一阶微分\n",
    "一阶导数: diff(expr,x)"
   ]
  },
  {
   "cell_type": "code",
   "execution_count": 3,
   "id": "68fda00a",
   "metadata": {},
   "outputs": [
    {
     "data": {
      "text/latex": [
       "$\\displaystyle x^{4}$"
      ],
      "text/plain": [
       "x**4"
      ]
     },
     "execution_count": 3,
     "metadata": {},
     "output_type": "execute_result"
    }
   ],
   "source": [
    "from sympy import *\n",
    "\n",
    "x = symbols('x')  # x为符号变量\n",
    "x ** 4"
   ]
  },
  {
   "cell_type": "code",
   "execution_count": 4,
   "id": "cb02054b",
   "metadata": {},
   "outputs": [
    {
     "data": {
      "text/latex": [
       "$\\displaystyle 4 x^{3}$"
      ],
      "text/plain": [
       "4*x**3"
      ]
     },
     "execution_count": 4,
     "metadata": {},
     "output_type": "execute_result"
    }
   ],
   "source": [
    "diff(x ** 4, x)"
   ]
  },
  {
   "cell_type": "markdown",
   "id": "dadea9f1",
   "metadata": {},
   "source": [
    "#### 1.2 求解多阶微分\n",
    "用数字来控制所求的阶数：diff(expr, x, n)"
   ]
  },
  {
   "cell_type": "code",
   "execution_count": 6,
   "id": "739d3887",
   "metadata": {},
   "outputs": [
    {
     "data": {
      "text/latex": [
       "$\\displaystyle 12 x^{2}$"
      ],
      "text/plain": [
       "12*x**2"
      ]
     },
     "execution_count": 6,
     "metadata": {},
     "output_type": "execute_result"
    }
   ],
   "source": [
    "diff(x ** 4, x, 2)  # 二阶微分"
   ]
  },
  {
   "cell_type": "code",
   "execution_count": 7,
   "id": "5f07f99f",
   "metadata": {},
   "outputs": [
    {
     "data": {
      "text/latex": [
       "$\\displaystyle 24 x$"
      ],
      "text/plain": [
       "24*x"
      ]
     },
     "execution_count": 7,
     "metadata": {},
     "output_type": "execute_result"
    }
   ],
   "source": [
    "diff(x ** 4, x, 3)  # 三阶微分"
   ]
  },
  {
   "cell_type": "markdown",
   "id": "daf1e9e7",
   "metadata": {},
   "source": [
    "#### 1.3 求解多变量微分\n",
    "求偏导数: 单独对一个变量求导"
   ]
  },
  {
   "cell_type": "code",
   "execution_count": 8,
   "id": "e624490b",
   "metadata": {},
   "outputs": [
    {
     "data": {
      "text/latex": [
       "$\\displaystyle e^{x y z}$"
      ],
      "text/plain": [
       "exp(x*y*z)"
      ]
     },
     "execution_count": 8,
     "metadata": {},
     "output_type": "execute_result"
    }
   ],
   "source": [
    "x, y, z = symbols('x y z')  # 定义多个符号变量即x,y,z\n",
    "expr = exp(x*y*z)\n",
    "expr"
   ]
  },
  {
   "cell_type": "code",
   "execution_count": 10,
   "id": "f3e985f6",
   "metadata": {},
   "outputs": [
    {
     "data": {
      "text/latex": [
       "$\\displaystyle y z e^{x y z}$"
      ],
      "text/plain": [
       "y*z*exp(x*y*z)"
      ]
     },
     "execution_count": 10,
     "metadata": {},
     "output_type": "execute_result"
    }
   ],
   "source": [
    "diff(expr, x)  # 对x求偏导"
   ]
  },
  {
   "cell_type": "code",
   "execution_count": 11,
   "id": "28b0e0ca",
   "metadata": {},
   "outputs": [
    {
     "data": {
      "text/latex": [
       "$\\displaystyle x z e^{x y z}$"
      ],
      "text/plain": [
       "x*z*exp(x*y*z)"
      ]
     },
     "execution_count": 11,
     "metadata": {},
     "output_type": "execute_result"
    }
   ],
   "source": [
    "diff(expr, y)  # 对y求偏导"
   ]
  },
  {
   "cell_type": "code",
   "execution_count": 12,
   "id": "5f0151c4",
   "metadata": {},
   "outputs": [
    {
     "data": {
      "text/latex": [
       "$\\displaystyle z \\left(x y z + 1\\right) e^{x y z}$"
      ],
      "text/plain": [
       "z*(x*y*z + 1)*exp(x*y*z)"
      ]
     },
     "execution_count": 12,
     "metadata": {},
     "output_type": "execute_result"
    }
   ],
   "source": [
    "diff(expr, x, y)  # 先对x求偏导 再对y求偏导 等价于diff(diff(expr, x), y)"
   ]
  },
  {
   "cell_type": "code",
   "execution_count": null,
   "id": "d7bc68fe",
   "metadata": {},
   "outputs": [],
   "source": []
  },
  {
   "cell_type": "markdown",
   "id": "10974ed1",
   "metadata": {},
   "source": [
    "### 2. 求积分-integrate()\n",
    "求不定积分：integrate(expr, var)\n",
    "\n",
    "求定积分：integrate(expr, (var, min, max))\n",
    "\n",
    "求多重积分：integrate(expr, (var1, min, max),(var2,min,max))"
   ]
  },
  {
   "cell_type": "markdown",
   "id": "a9a526ef",
   "metadata": {},
   "source": [
    "#### 2.1 求不定积分"
   ]
  },
  {
   "cell_type": "code",
   "execution_count": 19,
   "id": "876d2dd5",
   "metadata": {},
   "outputs": [
    {
     "data": {
      "text/latex": [
       "$\\displaystyle \\sin{\\left(x \\right)}$"
      ],
      "text/plain": [
       "sin(x)"
      ]
     },
     "execution_count": 19,
     "metadata": {},
     "output_type": "execute_result"
    }
   ],
   "source": [
    "from sympy import *\n",
    "\n",
    "\n",
    "x, y = symbols('x y')\n",
    "expr1 = cos(x)  # 表达式\n",
    "r1 = integrate(expr1, x)  # 求不定积分\n",
    "r1"
   ]
  },
  {
   "cell_type": "markdown",
   "id": "eeb3b23c",
   "metadata": {},
   "source": [
    "#### 2.2 求定积分"
   ]
  },
  {
   "cell_type": "code",
   "execution_count": 20,
   "id": "fc21760d",
   "metadata": {},
   "outputs": [
    {
     "data": {
      "text/latex": [
       "$\\displaystyle e^{- x}$"
      ],
      "text/plain": [
       "exp(-x)"
      ]
     },
     "execution_count": 20,
     "metadata": {},
     "output_type": "execute_result"
    }
   ],
   "source": [
    "expr2 = exp(-x)\n",
    "expr2"
   ]
  },
  {
   "cell_type": "code",
   "execution_count": 21,
   "id": "4e427400",
   "metadata": {},
   "outputs": [
    {
     "data": {
      "text/latex": [
       "$\\displaystyle 1$"
      ],
      "text/plain": [
       "1"
      ]
     },
     "execution_count": 21,
     "metadata": {},
     "output_type": "execute_result"
    }
   ],
   "source": [
    "r2 = integrate(expr2, (x, 0, oo))\n",
    "r2"
   ]
  },
  {
   "cell_type": "markdown",
   "id": "8393b1cc",
   "metadata": {},
   "source": [
    "#### 2.3 求多重积分 "
   ]
  },
  {
   "cell_type": "code",
   "execution_count": 22,
   "id": "ebb249f3",
   "metadata": {},
   "outputs": [
    {
     "data": {
      "text/latex": [
       "$\\displaystyle e^{- x^{2} - y^{2}}$"
      ],
      "text/plain": [
       "exp(-x**2 - y**2)"
      ]
     },
     "execution_count": 22,
     "metadata": {},
     "output_type": "execute_result"
    }
   ],
   "source": [
    "expr3 = exp(-x**2-y**2)\n",
    "expr3"
   ]
  },
  {
   "cell_type": "code",
   "execution_count": 24,
   "id": "7fc5ba9f",
   "metadata": {},
   "outputs": [
    {
     "data": {
      "text/latex": [
       "$\\displaystyle \\pi$"
      ],
      "text/plain": [
       "pi"
      ]
     },
     "execution_count": 24,
     "metadata": {},
     "output_type": "execute_result"
    }
   ],
   "source": [
    "r3 = integrate(expr3, (x, -oo, oo), (y, -oo, oo))\n",
    "r3"
   ]
  },
  {
   "cell_type": "code",
   "execution_count": null,
   "id": "13475d69",
   "metadata": {},
   "outputs": [],
   "source": []
  },
  {
   "cell_type": "markdown",
   "id": "eb61fdd5",
   "metadata": {},
   "source": [
    "### 3. 求极限-limit()\n",
    "求极限使用limit()，其有下两种使用方法：\n",
    "\n",
    "趋进某个点的极限：limit(expr, var, doit)\n",
    "\n",
    "从侧边趋进某个值的极限：limit(expr, var,doit, \"+\") (左侧趋进同理)"
   ]
  },
  {
   "cell_type": "code",
   "execution_count": null,
   "id": "21d460c7",
   "metadata": {},
   "outputs": [],
   "source": [
    "\n",
    "\n",
    "\n",
    "\n",
    "\n",
    "\n",
    "print(r1)\n",
    "\n",
    "print(r2)\n",
    "\n",
    "print(r3)"
   ]
  },
  {
   "cell_type": "code",
   "execution_count": 26,
   "id": "9309b97a",
   "metadata": {},
   "outputs": [
    {
     "data": {
      "text/latex": [
       "$\\displaystyle \\frac{\\sin{\\left(x \\right)}}{x}$"
      ],
      "text/plain": [
       "sin(x)/x"
      ]
     },
     "execution_count": 26,
     "metadata": {},
     "output_type": "execute_result"
    }
   ],
   "source": [
    "from sympy import *\n",
    "\n",
    "\n",
    "x = symbols('x')  # 初始化\n",
    "expr1 = sin(x)/x  # 表达式\n",
    "expr1"
   ]
  },
  {
   "cell_type": "code",
   "execution_count": 31,
   "id": "aa1d9e2a",
   "metadata": {},
   "outputs": [
    {
     "data": {
      "text/latex": [
       "$\\displaystyle 1$"
      ],
      "text/plain": [
       "1"
      ]
     },
     "execution_count": 31,
     "metadata": {},
     "output_type": "execute_result"
    }
   ],
   "source": [
    "# 求趋于某个值的极限\n",
    "r1 = limit(expr1, x, 0)\n",
    "r1"
   ]
  },
  {
   "cell_type": "code",
   "execution_count": 28,
   "id": "18e1c1e7",
   "metadata": {},
   "outputs": [
    {
     "data": {
      "text/latex": [
       "$\\displaystyle \\frac{1}{x}$"
      ],
      "text/plain": [
       "1/x"
      ]
     },
     "execution_count": 28,
     "metadata": {},
     "output_type": "execute_result"
    }
   ],
   "source": [
    "expr2 = 1/x\n",
    "expr2"
   ]
  },
  {
   "cell_type": "code",
   "execution_count": 30,
   "id": "59fbcf41",
   "metadata": {},
   "outputs": [
    {
     "data": {
      "text/latex": [
       "$\\displaystyle \\infty$"
      ],
      "text/plain": [
       "oo"
      ]
     },
     "execution_count": 30,
     "metadata": {},
     "output_type": "execute_result"
    }
   ],
   "source": [
    "# 正向趋进\n",
    "r2 = limit(expr2, x, 0, '+')\n",
    "r2"
   ]
  },
  {
   "cell_type": "code",
   "execution_count": 32,
   "id": "a81fa6e8",
   "metadata": {},
   "outputs": [
    {
     "data": {
      "text/latex": [
       "$\\displaystyle -\\infty$"
      ],
      "text/plain": [
       "-oo"
      ]
     },
     "execution_count": 32,
     "metadata": {},
     "output_type": "execute_result"
    }
   ],
   "source": [
    "# 负向趋进\n",
    "r3 = limit(expr2, x, 0, '-')\n",
    "r3"
   ]
  }
 ],
 "metadata": {
  "kernelspec": {
   "display_name": "Python 3 (ipykernel)",
   "language": "python",
   "name": "python3"
  },
  "language_info": {
   "codemirror_mode": {
    "name": "ipython",
    "version": 3
   },
   "file_extension": ".py",
   "mimetype": "text/x-python",
   "name": "python",
   "nbconvert_exporter": "python",
   "pygments_lexer": "ipython3",
   "version": "3.8.8"
  }
 },
 "nbformat": 4,
 "nbformat_minor": 5
}
