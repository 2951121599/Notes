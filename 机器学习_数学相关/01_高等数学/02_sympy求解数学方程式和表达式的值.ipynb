{
 "cells": [
  {
   "cell_type": "markdown",
   "metadata": {},
   "source": [
    "## 02_sympy求解数学方程式和表达式的值"
   ]
  },
  {
   "cell_type": "markdown",
   "metadata": {},
   "source": [
    "参考网址: https://vimsky.com/\n",
    "- https://vimsky.com/examples/usage/python-sympy-solve-method.html\n",
    "- https://vimsky.com/examples/usage/python-sympy-subs-method-2.html"
   ]
  },
  {
   "cell_type": "markdown",
   "metadata": {},
   "source": [
    "### 1.solve()方法\n",
    "借助sympy.solve(expression)方法，我们可以轻松地求解数学方程式，它将返回使用参数作为参数提供的方程式的根sympy.solve()方法。\n",
    "\n",
    "用法： \n",
    "sympy.solve(expression)\n",
    "\n",
    "\n",
    "返回：返回方程的根"
   ]
  },
  {
   "cell_type": "code",
   "execution_count": 7,
   "metadata": {},
   "outputs": [
    {
     "data": {
      "text/latex": [
       "$\\displaystyle x^{2} - 4$"
      ],
      "text/plain": [
       "x**2 - 4"
      ]
     },
     "execution_count": 7,
     "metadata": {},
     "output_type": "execute_result"
    }
   ],
   "source": [
    "from sympy import *\n",
    "\n",
    "x = symbols('x')\n",
    "expr = x**2 - 4\n",
    "expr"
   ]
  },
  {
   "cell_type": "code",
   "execution_count": 8,
   "metadata": {},
   "outputs": [
    {
     "data": {
      "text/plain": [
       "[-2, 2]"
      ]
     },
     "execution_count": 8,
     "metadata": {},
     "output_type": "execute_result"
    }
   ],
   "source": [
    "solve(expr, x)"
   ]
  },
  {
   "cell_type": "code",
   "execution_count": 9,
   "metadata": {},
   "outputs": [
    {
     "data": {
      "text/latex": [
       "$\\displaystyle x^{2} + 36$"
      ],
      "text/plain": [
       "x**2 + 36"
      ]
     },
     "execution_count": 9,
     "metadata": {},
     "output_type": "execute_result"
    }
   ],
   "source": [
    "from sympy import * \n",
    "  \n",
    "x = symbols('x') \n",
    "expr = x**2 + 36\n",
    "expr"
   ]
  },
  {
   "cell_type": "code",
   "execution_count": 11,
   "metadata": {},
   "outputs": [
    {
     "data": {
      "text/plain": [
       "[-6*I, 6*I]"
      ]
     },
     "execution_count": 11,
     "metadata": {},
     "output_type": "execute_result"
    }
   ],
   "source": [
    "solve(expr, x)"
   ]
  },
  {
   "cell_type": "code",
   "execution_count": 18,
   "metadata": {},
   "outputs": [
    {
     "data": {
      "text/plain": [
       "[-sqrt(5), sqrt(5)]"
      ]
     },
     "execution_count": 18,
     "metadata": {},
     "output_type": "execute_result"
    }
   ],
   "source": [
    "# 使用solve得到真实解\n",
    "x = symbols('x')\n",
    "expr = x**2 - 5\n",
    "solve(expr, x)"
   ]
  },
  {
   "cell_type": "code",
   "execution_count": 16,
   "metadata": {},
   "outputs": [
    {
     "data": {
      "text/latex": [
       "$\\displaystyle 2.23606797749979$"
      ],
      "text/plain": [
       "2.23606797749979"
      ]
     },
     "execution_count": 16,
     "metadata": {},
     "output_type": "execute_result"
    }
   ],
   "source": [
    "# 使用nsolve得到近似解\n",
    "x = symbols('x')\n",
    "expr = x**2 - 5\n",
    "nsolve(expr, 0)"
   ]
  },
  {
   "cell_type": "markdown",
   "metadata": {},
   "source": [
    "### 2.subs()方法\n",
    "借助于sympy.subs()方法，我们可以将数学表达式中的变量或表达式的所有实例替换为其他变量或表达式或值。\n",
    "\n",
    "用法： math_expression.subs(variable, substitute)\n",
    "参数：\n",
    "variable –它是将被替换的变量或表达式。\n",
    "substitute –它是替代变量或表达式或值。\n",
    "\n",
    "\n",
    "返回值：返回替换后的表达式。"
   ]
  },
  {
   "cell_type": "code",
   "execution_count": 19,
   "metadata": {},
   "outputs": [
    {
     "name": "stdout",
     "output_type": "stream",
     "text": [
      "Before Substitution : x**2 + 1\n",
      "After Substitution : y**2 + 1\n"
     ]
    }
   ],
   "source": [
    "from sympy import *\n",
    "  \n",
    "x, y = symbols('x y') \n",
    "exp = x**2 + 1\n",
    "print(\"Before Substitution : {}\".format(exp))  \n",
    "    \n",
    "res_exp = exp.subs(x, y)  # 使用subs方法替换x为y\n",
    "    \n",
    "print(\"After Substitution : {}\".format(res_exp))"
   ]
  },
  {
   "cell_type": "code",
   "execution_count": 20,
   "metadata": {},
   "outputs": [
    {
     "name": "stdout",
     "output_type": "stream",
     "text": [
      "Before Substitution : cos(x) + 7\n",
      "After Substitution : 8\n"
     ]
    }
   ],
   "source": [
    "from sympy import * \n",
    "  \n",
    "x = symbols('x') \n",
    "exp = cos(x) + 7\n",
    "print(\"Before Substitution : {}\".format(exp))  \n",
    "    \n",
    "res_exp = exp.subs(x, 0)  # 使用subs方法替换x为0, 得到表达式的结果\n",
    "    \n",
    "print(\"After Substitution : {}\".format(res_exp))"
   ]
  },
  {
   "cell_type": "code",
   "execution_count": 21,
   "metadata": {},
   "outputs": [
    {
     "name": "stdout",
     "output_type": "stream",
     "text": [
      "Before Substitution : x**2 + 7*y + z\n",
      "After Substitution : 33\n"
     ]
    }
   ],
   "source": [
    "from sympy import * \n",
    "  \n",
    "x, y, z = symbols('x y z') \n",
    "exp = x**2 + 7 * y + z \n",
    "print(\"Before Substitution : {}\".format(exp))  \n",
    "\n",
    "res_exp = exp.subs([(x, 2), (y, 4), (z, 1)])  # 将x, y, z替换为2, 4, 1, 并得到表达式的结果\n",
    "    \n",
    "print(\"After Substitution : {}\".format(res_exp))"
   ]
  },
  {
   "cell_type": "markdown",
   "metadata": {},
   "source": [
    "### 3.evalf()方法\n",
    "借助sympy.evalf()方法，我们能够评估数学表达式。\n",
    "\n",
    "用法： \n",
    "sympy.evalf()\n",
    "\n",
    "\n",
    "返回：返回计算的数学表达式。"
   ]
  },
  {
   "cell_type": "code",
   "execution_count": 1,
   "metadata": {},
   "outputs": [
    {
     "data": {
      "text/latex": [
       "$\\displaystyle 3$"
      ],
      "text/plain": [
       "3"
      ]
     },
     "execution_count": 1,
     "metadata": {},
     "output_type": "execute_result"
    }
   ],
   "source": [
    "from sympy import *\n",
    "  \n",
    "expn = sqrt(9)  # 3\n",
    "expn"
   ]
  },
  {
   "cell_type": "code",
   "execution_count": 3,
   "metadata": {},
   "outputs": [
    {
     "data": {
      "text/latex": [
       "$\\displaystyle 3.0$"
      ],
      "text/plain": [
       "3.00000000000000"
      ]
     },
     "execution_count": 3,
     "metadata": {},
     "output_type": "execute_result"
    }
   ],
   "source": [
    "expn.evalf()"
   ]
  },
  {
   "cell_type": "code",
   "execution_count": 4,
   "metadata": {},
   "outputs": [
    {
     "data": {
      "text/latex": [
       "$\\displaystyle 3 \\cos{\\left(45 \\right)}$"
      ],
      "text/plain": [
       "3*cos(45)"
      ]
     },
     "execution_count": 4,
     "metadata": {},
     "output_type": "execute_result"
    }
   ],
   "source": [
    "from sympy import *\n",
    "  \n",
    "expn = sqrt(9) * cos(45) \n",
    "expn"
   ]
  },
  {
   "cell_type": "code",
   "execution_count": 6,
   "metadata": {},
   "outputs": [
    {
     "data": {
      "text/latex": [
       "$\\displaystyle 1.57596596645319$"
      ],
      "text/plain": [
       "1.57596596645319"
      ]
     },
     "execution_count": 6,
     "metadata": {},
     "output_type": "execute_result"
    }
   ],
   "source": [
    "expn.evalf() "
   ]
  },
  {
   "cell_type": "code",
   "execution_count": 8,
   "metadata": {},
   "outputs": [
    {
     "data": {
      "text/latex": [
       "$\\displaystyle 0.52532198881773$"
      ],
      "text/plain": [
       "0.525321988817730"
      ]
     },
     "execution_count": 8,
     "metadata": {},
     "output_type": "execute_result"
    }
   ],
   "source": [
    "cos(45).evalf()"
   ]
  }
 ],
 "metadata": {
  "kernelspec": {
   "display_name": "Python 3.8.8 ('base')",
   "language": "python",
   "name": "python3"
  },
  "language_info": {
   "codemirror_mode": {
    "name": "ipython",
    "version": 3
   },
   "file_extension": ".py",
   "mimetype": "text/x-python",
   "name": "python",
   "nbconvert_exporter": "python",
   "pygments_lexer": "ipython3",
   "version": "3.8.8"
  },
  "orig_nbformat": 4,
  "vscode": {
   "interpreter": {
    "hash": "88279d2366fe020547cde40dd65aa0e3aa662a6ec1f3ca12d88834876c85e1a6"
   }
  }
 },
 "nbformat": 4,
 "nbformat_minor": 2
}
