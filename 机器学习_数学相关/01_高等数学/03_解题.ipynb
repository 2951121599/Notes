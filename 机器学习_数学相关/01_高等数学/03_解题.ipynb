{
 "cells": [
  {
   "cell_type": "markdown",
   "metadata": {},
   "source": [
    "<img src=\"./images/高等数学与数值计算.png\">"
   ]
  },
  {
   "cell_type": "markdown",
   "metadata": {},
   "source": [
    "### 1.求一元函数的最优解"
   ]
  },
  {
   "cell_type": "code",
   "execution_count": 3,
   "metadata": {},
   "outputs": [
    {
     "data": {
      "text/latex": [
       "$\\displaystyle 2500 - 1250 e^{- \\left(n - 5000\\right)^{2}}$"
      ],
      "text/plain": [
       "2500 - 1250*exp(-(n - 5000)**2)"
      ]
     },
     "execution_count": 3,
     "metadata": {},
     "output_type": "execute_result"
    }
   ],
   "source": [
    "from sympy import *\n",
    "\n",
    "n = symbols('n')  # n为符号变量\n",
    "y = 1250 * (2 - exp(-(n-5000)**2))\n",
    "y\n"
   ]
  },
  {
   "cell_type": "code",
   "execution_count": 4,
   "metadata": {},
   "outputs": [
    {
     "data": {
      "text/latex": [
       "$\\displaystyle - 1250 \\cdot \\left(10000 - 2 n\\right) e^{- \\left(n - 5000\\right)^{2}}$"
      ],
      "text/plain": [
       "-1250*(10000 - 2*n)*exp(-(n - 5000)**2)"
      ]
     },
     "execution_count": 4,
     "metadata": {},
     "output_type": "execute_result"
    }
   ],
   "source": [
    "# 求导数\n",
    "diff1 = diff(y, n)\n",
    "diff1"
   ]
  },
  {
   "cell_type": "code",
   "execution_count": 5,
   "metadata": {},
   "outputs": [
    {
     "data": {
      "text/plain": [
       "[5000]"
      ]
     },
     "execution_count": 5,
     "metadata": {},
     "output_type": "execute_result"
    }
   ],
   "source": [
    "# 计算驻点, solve函数返回的是一个列表\n",
    "solve(diff(y, n), n)"
   ]
  },
  {
   "cell_type": "code",
   "execution_count": 6,
   "metadata": {},
   "outputs": [
    {
     "data": {
      "text/latex": [
       "$\\displaystyle 2500 \\cdot \\left(1 - 2 \\left(n - 5000\\right)^{2}\\right) e^{- \\left(n - 5000\\right)^{2}}$"
      ],
      "text/plain": [
       "2500*(1 - 2*(n - 5000)**2)*exp(-(n - 5000)**2)"
      ]
     },
     "execution_count": 6,
     "metadata": {},
     "output_type": "execute_result"
    }
   ],
   "source": [
    "# 计算二阶导数\n",
    "diff2 = diff(y, n, 2)\n",
    "diff2"
   ]
  },
  {
   "cell_type": "code",
   "execution_count": 7,
   "metadata": {},
   "outputs": [
    {
     "data": {
      "text/latex": [
       "$\\displaystyle 2500.0$"
      ],
      "text/plain": [
       "2500.00000000000"
      ]
     },
     "execution_count": 7,
     "metadata": {},
     "output_type": "execute_result"
    }
   ],
   "source": [
    "# 计算驻点的二阶导数值\n",
    "diff2.evalf(subs = {n:5000})"
   ]
  },
  {
   "cell_type": "markdown",
   "metadata": {},
   "source": [
    "### 2.求多元函数的极值\n",
    "多元函数极值及其求法\n",
    "> 极大值、极小值统称为极值，使得函数取得极值的点称为极值点。\n",
    "\n",
    "> 驻点: 能使一阶偏导数同时为0的点。\n",
    "\n",
    "> 极值的必要条件: 一个函数z=f(x, y)在点(x0, y0)具有偏导数，且在该点有极值, 则它在该点的偏导数必然为零。fx(x0, y0) = 0, fy(x0, y0) = 0\n",
    "\n",
    "> 推广到三元: 三元函数在一点有偏导数, 需满足三个条件: fx(x0, y0, z0) = 0, fy(x0, y0, z0) = 0, fz(x0, y0, z0) = 0\n",
    "\n",
    "> 方法: 1.求驻点 2.判别，求二阶偏导数的各个点"
   ]
  },
  {
   "cell_type": "code",
   "execution_count": 29,
   "metadata": {},
   "outputs": [
    {
     "data": {
      "text/latex": [
       "$\\displaystyle 3 x^{2} + 4 y^{2}$"
      ],
      "text/plain": [
       "3*x**2 + 4*y**2"
      ]
     },
     "execution_count": 29,
     "metadata": {},
     "output_type": "execute_result"
    }
   ],
   "source": [
    "from sympy import *\n",
    "\n",
    "x, y, z = symbols('x y z')\n",
    "# 函数 z = 3 * x**2 + 4 * y**2的极小值点\n",
    "z = 3*x**2 + 4*y**2\n",
    "z"
   ]
  },
  {
   "cell_type": "code",
   "execution_count": 21,
   "metadata": {},
   "outputs": [
    {
     "data": {
      "text/plain": [
       "{x: -1, y: 4}"
      ]
     },
     "execution_count": 21,
     "metadata": {},
     "output_type": "execute_result"
    }
   ],
   "source": [
    "# 求解方程组\n",
    "from sympy import *\n",
    "\n",
    "x, y = symbols('x y')\n",
    "f1 = x + y - 3\n",
    "f2 = x - y + 5\n",
    "# Solve函数的第一个参数是要解的方程，要求右端等于0，第二个参数是未知数。\n",
    "solve([f1, f2], [x, y])"
   ]
  },
  {
   "cell_type": "markdown",
   "metadata": {},
   "source": [
    "### 3.计算定积分"
   ]
  },
  {
   "cell_type": "code",
   "execution_count": 31,
   "metadata": {},
   "outputs": [
    {
     "data": {
      "text/plain": [
       "0.33333333333333337"
      ]
     },
     "execution_count": 31,
     "metadata": {},
     "output_type": "execute_result"
    }
   ],
   "source": [
    "from scipy import integrate\n",
    "from scipy import pi\n",
    "\n",
    "def f(x):\n",
    "    return x ** 2\n",
    " # 已知函数表达式积分\n",
    "v, err = integrate.quad(f, 0, 1) # 被积函数与积分区间\n",
    "v"
   ]
  },
  {
   "cell_type": "markdown",
   "metadata": {},
   "source": [
    "### 4.三次样条插值法的代码实现"
   ]
  },
  {
   "cell_type": "markdown",
   "metadata": {},
   "source": [
    "模拟网速曲线<br>\n",
    "\n",
    "<img src=\"./images/wangsu.png\" width = 200>"
   ]
  },
  {
   "cell_type": "code",
   "execution_count": 32,
   "metadata": {},
   "outputs": [
    {
     "name": "stdout",
     "output_type": "stream",
     "text": [
      "参数计算完成：-0.27448708201783356\n",
      "参数已保存...\n",
      "[66, 66, 65, 64, 63, 63, 62, 61, 60, 59, 58, 58, 58, 58, 58, 57, 57, 57, 57, 58, 60, 64, 67, 68]\n"
     ]
    },
    {
     "data": {
      "image/png": "[encoded data removed]",
      "text/plain": [
       "<Figure size 720x432 with 1 Axes>"
      ]
     },
     "metadata": {
      "needs_background": "light"
     },
     "output_type": "display_data"
    }
   ],
   "source": [
    "# 参考多肉罗罗code\n",
    "import pickle\n",
    "import numpy as np\n",
    "import matplotlib.pyplot as plt\n",
    "\n",
    "\n",
    "plt.rcParams['font.sans-serif'] = \"SimHei\"\n",
    "plt.rcParams['axes.unicode_minus'] = False\n",
    "\n",
    "def calculateEquationParameters(x):\n",
    "    \"\"\"\n",
    "    完成对三次样条函数求解方程参数的输入\n",
    "    :param x: 需要进行三次样条曲线计算的自变量\n",
    "    :return: 方程的参数，总共应该是4*区间个数\n",
    "    \"\"\"\n",
    "\n",
    "    # 区间个数 = 点的个数 - 1\n",
    "    size_of_interval = len(x) - 1\n",
    "    # parameters为二维数组，存放所有的参数\n",
    "    parameters = []\n",
    "\n",
    "    # 首先需要输入方程分段连接处的方程，共有2*n(区间个数)-2个方程\n",
    "    i = 1\n",
    "    while i < len(x) - 1:\n",
    "        # 这里我们需要获得分段连接处三次曲线的方程参数，形如ax^3+bx^2+cx+d=0\n",
    "        # 这四个参数应该是x^3,x^2,x,1，我们需要求解的是关于a,b,c,d的线性方程。\n",
    "        data = [0] * (size_of_interval * 4)\n",
    "        data[(i - 1) * 4] = x[i] * x[i] * x[i]\n",
    "        data[(i - 1) * 4 + 1] = x[i] * x[i]\n",
    "        data[(i - 1) * 4 + 2] = x[i]\n",
    "        data[(i - 1) * 4 + 3] = 1\n",
    "\n",
    "        # 因为分段连接处结点在两条曲线中，对于另一条曲线，也有类似的参数方程。\n",
    "        data_next = [0] * (size_of_interval * 4)\n",
    "        data_next[i * 4] = x[i] * x[i] * x[i]\n",
    "        data_next[i * 4+ 1] = x[i] * x[i]\n",
    "        data_next[i * 4 + 2] = x[i]\n",
    "        data_next[i * 4 + 3] = 1\n",
    "\n",
    "        parameters.append(data)\n",
    "        parameters.append(data_next)\n",
    "        i += 1\n",
    "\n",
    "    # 输入端点处的函数值。为两个方程,加上前面的2n-2个方程，一共2n个方程\n",
    "    # 第一个端点\n",
    "    data_first_point = [0] * (size_of_interval * 4)\n",
    "    data_first_point[0] = x[0] * x[0] * x[0]\n",
    "    data_first_point[1] = x[0] * x[0]\n",
    "    data_first_point[2] = x[0]\n",
    "    data_first_point[3] = 1\n",
    "    parameters.append(data_first_point)\n",
    "    # 最后一个端点\n",
    "    data_last_point = [0] * (size_of_interval * 4)\n",
    "    data_last_point[-4] = x[-1] * x[-1] * x[-1]\n",
    "    data_last_point[-3] = x[-1] * x[-1]\n",
    "    data_last_point[-2] = x[-1]\n",
    "    data_last_point[-1] = 1\n",
    "    parameters.append(data_last_point)\n",
    "\n",
    "    # 节点处的斜率相等，共有n-1个方程，加上前面的2n个方程，也就是3n-1个方程\n",
    "    i = 1\n",
    "    while i < len(x) - 1:\n",
    "        # 这里我们需要获得分段连接处三次曲线的方程参数，形如ax1^3+bx1^2+cx1+d=0\n",
    "        # 对于某个点x，其分别位于两条三次曲线a1x^3+b1x^2+c1x+d1=0以及a2x^3+b2x^2+c2x+d2=0\n",
    "        # 节点处的斜率相等，也就是3a1x^2+2b1x+c1=3a2x^2+2b2x+c2，即3a1x^2+2b1x+c1-3a2x^2+2b2x+c2=0\n",
    "        # 因此参数应该为3x^2,2x,1,-3x^2,-2x,-1，因为我们需要求解的是关于a1,b1,c1,a2,b2,c2的方程。\n",
    "        data = [0] * (size_of_interval * 4)\n",
    "        data[(i - 1) * 4] = 3 * x[i] * x[i]\n",
    "        data[(i - 1) * 4 + 1] = 2 * x[i]\n",
    "        data[(i - 1) * 4 + 2] = 1\n",
    "        data[i * 4] = -3 * x[i] * x[i]\n",
    "        data[i * 4 + 1] = -2 * x[i]\n",
    "        data[i * 4 + 2] = -1\n",
    "\n",
    "        parameters.append(data)\n",
    "        i += 1\n",
    "\n",
    "    # 节点处的曲率要相等，共有n-1个方程，加上前面的3n-1个方程，也就是4n-2个方程\n",
    "    i = 1\n",
    "    while i < len(x) - 1:\n",
    "        # 这里我们需要获得分段连接处三次曲线的方程参数，形如ax1^3+bx1^2+cx1+d=0\n",
    "        # 对于某个点x，其分别位于两条三次曲线a1x^3+b1x^2+c1x+d1=0以及a2x^3+b2x^2+c2x+d2=0\n",
    "        # 节点处的曲率要相等，也就是6a1x+2b1=6a2x+2b2，也就是6a1x+2b1-6a2x+2b2=0\n",
    "        # 因此参数应该为6x,2,-6x,-2，因为我们需要求解的是关于a1,b1,a2,b2的方程\n",
    "        data = [0] * (size_of_interval * 4)\n",
    "        data[(i - 1) * 4] = 6 * x[i]\n",
    "        data[(i - 1) * 4 + 1] = 2\n",
    "        data[i * 4] = -6 * x[i]\n",
    "        data[i* 4 + 1] = -2\n",
    "\n",
    "        parameters.append(data)\n",
    "        i += 1\n",
    "\n",
    "    # 这里我们人为添加了两个关于首尾端点的曲率方程，也就是6a1x1+2b1=0以及6a_24x_24+2b_24=0\n",
    "    # 第一个端点处曲率为0\n",
    "    data_first_curvature = [0] * (size_of_interval * 4)\n",
    "    data_first_curvature[0] = 6 * x[0]\n",
    "    data_first_curvature[1] = 2\n",
    "    parameters.append(data_first_curvature)\n",
    "\n",
    "    # 最后一个端点曲率为0\n",
    "    data_last_curvature = [0] * (size_of_interval * 4)\n",
    "    data_last_curvature[-4] = 6 * x[-1]\n",
    "    data_last_curvature[-3] = 2\n",
    "    parameters.append(data_last_curvature)\n",
    "\n",
    "    return parameters\n",
    "\n",
    "def solutionOfEquation(parameters, x, y):\n",
    "    \"\"\"\n",
    "    计算样条函数的系数。\n",
    "    :param parameters: 方程的系数——就是我们在上一个函数中的返回值\n",
    "    :param x: 要插值函数的自变量\n",
    "    :param y: 要插值函数的因变量\n",
    "    :return: 三次插值函数的系数a,b,c,d\n",
    "    \"\"\"\n",
    "\n",
    "    # 区间个数 = 点的个数 - 1\n",
    "    size_of_interval = len(x) - 1\n",
    "    # result对应92个方程等式右边的值\n",
    "    result = [0] * (size_of_interval * 4)\n",
    "\n",
    "    i = 1\n",
    "    while i < size_of_interval:\n",
    "        # 因为关于一阶导数二阶导数方程右边全为0，所以我们只需要关注不为0的情况，也就是端点处的函数值\n",
    "        # 在循环中主要是解决了内部端点\n",
    "        result[(i - 1) * 2] = y[i]\n",
    "        result[(i - 1) * 2 + 1] = y[i]\n",
    "\n",
    "        i += 1\n",
    "\n",
    "    # 还需要对应上首尾端点，我们在前面添加的时候其实是在2n-2个方程之后添加的\n",
    "    # 第一个端点\n",
    "    result[2 * (size_of_interval - 1)] = y[0]\n",
    "    # 最后一个端点\n",
    "    result[2 * (size_of_interval - 1) + 1] = y[-1]\n",
    "\n",
    "    # 求解\n",
    "    a = np.array(calculateEquationParameters(x))\n",
    "    b = np.array(result)\n",
    "    return np.linalg.solve(a, b)\n",
    "\n",
    "\n",
    "def calculate(parameters, x):\n",
    "    \"\"\"\n",
    "    根据所给参数，计算三次函数的函数值\n",
    "    :param parameters: 为三次函数的系数\n",
    "    :param x: 自变量\n",
    "    :return: 三次函数的函数值\n",
    "    \"\"\"\n",
    "    result = []\n",
    "    for data_x in x:\n",
    "        result.append(parameters[0] * (data_x ** 3) + parameters[1] * (data_x ** 2) + parameters[2] * (data_x) + parameters[3])\n",
    "    return result\n",
    "\n",
    "def get_new_data(result, x):\n",
    "    \"\"\"\n",
    "    由拉格朗日插值函数计算的值\n",
    "    :param result: 样条函数的系数\n",
    "    :param x: x为函数的自变量\n",
    "    :return: 返回新生成的连续值\n",
    "    \"\"\"\n",
    "    new_data_x = []\n",
    "    new_data_y = []\n",
    "\n",
    "    for i, xi in enumerate(x[:-1]):\n",
    "        new_data_xi = np.arange(x[i], x[i + 1] if i + 1 < len(x) else x[i] + 0.5, 0.1)\n",
    "        new_data_yi = calculate([result[i * 4], result[i * 4 + 1], result[i * 4 + 2], result[i * 4 + 3]], new_data_xi)\n",
    "        new_data_x.extend(new_data_xi)\n",
    "        new_data_y.extend(new_data_yi)\n",
    "\n",
    "    return new_data_x, new_data_y\n",
    "\n",
    "def plot_data(data_x, data_y, new_data_x, new_data_y):\n",
    "    \"\"\"\n",
    "    将函数绘制成图像\n",
    "    :param data_x: 自变量取值（离散点）\n",
    "    :param data_y: 因变量取值（离散点）\n",
    "    :param new_data_x: 自变量取值（间隔很小，近乎连续）\n",
    "    :param new_data_y: 拉格朗日插值函数计算的值\n",
    "    :return: None\n",
    "    \"\"\"\n",
    "    plt.subplots(figsize=(10,6))\n",
    "    plt.plot(new_data_x, new_data_y, label=\"拟合曲线\", color=\"black\")\n",
    "    plt.scatter(data_x, data_y, label=\"离散数据\", color=\"red\")\n",
    "    plt.title(\"三次样条函数\")\n",
    "    plt.legend(loc=\"upper left\")\n",
    "    plt.show()\n",
    "\n",
    "\n",
    "x = [i for i in range(1, 25)]\n",
    "s = [66, 66, 65, 64, 63, 63, 62, 61, 60, 59, 58, 58, 58, 58, 58, 57, 57, 57, 57, 58, 60, 64, 67, 68]\n",
    "\n",
    "result = solutionOfEquation(calculateEquationParameters(x), x, s)\n",
    "print(f\"参数计算完成：{result[0]}\")\n",
    "# 将参数保存到pickle\n",
    "with open('parameters.pkl', 'wb') as f:\n",
    "    pickle.dump(result, f)\n",
    "print(\"参数已保存...\")\n",
    "new_data_x, new_data_y = get_new_data(result, x)\n",
    "print(s)\n",
    "plot_data(x, s, new_data_x, new_data_y)"
   ]
  },
  {
   "cell_type": "markdown",
   "metadata": {},
   "source": [
    "### 5.实战项目——人口增长问题"
   ]
  },
  {
   "cell_type": "markdown",
   "metadata": {},
   "source": [
    "GitModel 公司对面试的实习生给出了这样一个问题 : 搜集 $1950\\sim 2020$ 年间美国人口数据$,$ 猜测其满足的函数关系$,$ 并综合数据预测美国 $2030$ 年的人口数.\n",
    "\n",
    "公司希望实习生就以下的<strong>开放性</strong>问题给出自己的想法，公司要求实习生<strong>提交预测的思路$,$ 模型$,$ 算法以及结果</strong>.\n",
    "\n",
    "面试官给出了如下提示 : 预测值与真实值存在误差$,$ 该问题如何转化为可用上述所学的知识解决的问题呢? \n",
    "\n",
    "你认为美国人口与时间的关系应该满足怎样的函数关系? 这样的函数你能否找到? 又怎么衡量这个函数具有良好的预测效果?\n"
   ]
  },
  {
   "cell_type": "markdown",
   "metadata": {},
   "source": [
    "\n",
    "数据收集：通过上网搜索，获取美国人1950 到 2020 年 1950到2020年1950到2020年的人口数据"
   ]
  },
  {
   "cell_type": "code",
   "execution_count": 33,
   "metadata": {},
   "outputs": [
    {
     "data": {
      "text/html": [
       "<div>\n",
       "<style scoped>\n",
       "    .dataframe tbody tr th:only-of-type {\n",
       "        vertical-align: middle;\n",
       "    }\n",
       "\n",
       "    .dataframe tbody tr th {\n",
       "        vertical-align: top;\n",
       "    }\n",
       "\n",
       "    .dataframe thead th {\n",
       "        text-align: right;\n",
       "    }\n",
       "</style>\n",
       "<table border=\"1\" class=\"dataframe\">\n",
       "  <thead>\n",
       "    <tr style=\"text-align: right;\">\n",
       "      <th></th>\n",
       "      <th>year</th>\n",
       "      <th>population</th>\n",
       "    </tr>\n",
       "  </thead>\n",
       "  <tbody>\n",
       "    <tr>\n",
       "      <th>0</th>\n",
       "      <td>1950</td>\n",
       "      <td>158804397</td>\n",
       "    </tr>\n",
       "    <tr>\n",
       "      <th>1</th>\n",
       "      <td>1951</td>\n",
       "      <td>160872264</td>\n",
       "    </tr>\n",
       "    <tr>\n",
       "      <th>2</th>\n",
       "      <td>1952</td>\n",
       "      <td>163266026</td>\n",
       "    </tr>\n",
       "    <tr>\n",
       "      <th>3</th>\n",
       "      <td>1953</td>\n",
       "      <td>165909996</td>\n",
       "    </tr>\n",
       "    <tr>\n",
       "      <th>4</th>\n",
       "      <td>1954</td>\n",
       "      <td>168736390</td>\n",
       "    </tr>\n",
       "    <tr>\n",
       "      <th>...</th>\n",
       "      <td>...</td>\n",
       "      <td>...</td>\n",
       "    </tr>\n",
       "    <tr>\n",
       "      <th>66</th>\n",
       "      <td>2016</td>\n",
       "      <td>323015992</td>\n",
       "    </tr>\n",
       "    <tr>\n",
       "      <th>67</th>\n",
       "      <td>2017</td>\n",
       "      <td>325084758</td>\n",
       "    </tr>\n",
       "    <tr>\n",
       "      <th>68</th>\n",
       "      <td>2018</td>\n",
       "      <td>327096263</td>\n",
       "    </tr>\n",
       "    <tr>\n",
       "      <th>69</th>\n",
       "      <td>2019</td>\n",
       "      <td>329064917</td>\n",
       "    </tr>\n",
       "    <tr>\n",
       "      <th>70</th>\n",
       "      <td>2020</td>\n",
       "      <td>331002647</td>\n",
       "    </tr>\n",
       "  </tbody>\n",
       "</table>\n",
       "<p>71 rows × 2 columns</p>\n",
       "</div>"
      ],
      "text/plain": [
       "    year  population\n",
       "0   1950   158804397\n",
       "1   1951   160872264\n",
       "2   1952   163266026\n",
       "3   1953   165909996\n",
       "4   1954   168736390\n",
       "..   ...         ...\n",
       "66  2016   323015992\n",
       "67  2017   325084758\n",
       "68  2018   327096263\n",
       "69  2019   329064917\n",
       "70  2020   331002647\n",
       "\n",
       "[71 rows x 2 columns]"
      ]
     },
     "execution_count": 33,
     "metadata": {},
     "output_type": "execute_result"
    }
   ],
   "source": [
    "import pandas as pd\n",
    "\n",
    "df = pd.read_csv('./data/US_POPULATION.csv')\n",
    "df"
   ]
  },
  {
   "cell_type": "code",
   "execution_count": 34,
   "metadata": {},
   "outputs": [
    {
     "data": {
      "image/png": "[encoded data removed]",
      "text/plain": [
       "<Figure size 432x288 with 1 Axes>"
      ]
     },
     "metadata": {
      "needs_background": "light"
     },
     "output_type": "display_data"
    }
   ],
   "source": [
    "year = df['year']\n",
    "population = df['population']\n",
    "plt.scatter(year, population)\n",
    "plt.xlabel('year')\n",
    "plt.ylabel('population')\n",
    "plt.title('US population data from 1950 to 2020')\n",
    "plt.show()"
   ]
  },
  {
   "cell_type": "markdown",
   "metadata": {},
   "source": [
    "可做线性模型, 时间暂时不够了, 后面再做"
   ]
  }
 ],
 "metadata": {
  "kernelspec": {
   "display_name": "Python 3.8.8 ('base')",
   "language": "python",
   "name": "python3"
  },
  "language_info": {
   "codemirror_mode": {
    "name": "ipython",
    "version": 3
   },
   "file_extension": ".py",
   "mimetype": "text/x-python",
   "name": "python",
   "nbconvert_exporter": "python",
   "pygments_lexer": "ipython3",
   "version": "3.8.8"
  },
  "orig_nbformat": 4,
  "vscode": {
   "interpreter": {
    "hash": "88279d2366fe020547cde40dd65aa0e3aa662a6ec1f3ca12d88834876c85e1a6"
   }
  }
 },
 "nbformat": 4,
 "nbformat_minor": 2
}
