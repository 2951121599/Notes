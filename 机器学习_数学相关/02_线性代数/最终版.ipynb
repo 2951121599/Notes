{
 "cells": [
  {
   "cell_type": "markdown",
   "metadata": {},
   "source": [
    "## 2. 线性代数"
   ]
  },
  {
   "cell_type": "markdown",
   "metadata": {},
   "source": [
    "### 2.1 线性方程组与向量"
   ]
  },
  {
   "cell_type": "markdown",
   "metadata": {},
   "source": [
    "鸡兔同笼问题\n",
    ">\n",
    "> 已知鸡有2只脚, 兔子有四只脚, 一共有10个头，28只脚，请问鸡兔各有几只？"
   ]
  },
  {
   "cell_type": "markdown",
   "metadata": {},
   "source": [
    "列出一个二元一次方程，假设鸡有$x$只，兔子有$y$只，那么可以得到\n",
    "\n",
    "$$\n",
    "x+y=10\\\\\n",
    "2x+4y=28\n",
    "$$"
   ]
  },
  {
   "cell_type": "markdown",
   "metadata": {},
   "source": [
    "二元一次方程组表示为**线性方程组**，事实上可以看成是一张表格\n",
    "\n",
    "| $x$的系数 | $y$的系数 | 结果 |\n",
    "|:---------:|:---------:|:----:|\n",
    "|     1     |     1     |  10  |\n",
    "|     2     |     4     |  28  |"
   ]
  },
  {
   "cell_type": "markdown",
   "metadata": {},
   "source": [
    "用**向量**表示左边的系数，$\\left[\\begin{array}{l}1\\\\2\\end{array}\\right]$和$\\left[\\begin{array}{l}1\\\\4\\end{array}\\right]$, 同理用常数表示右边得到$\\left[\\begin{array}{l}10\\\\28\\end{array}\\right]$"
   ]
  },
  {
   "cell_type": "markdown",
   "metadata": {},
   "source": [
    "两个向量用一个二维的数表, 表示为**系数矩阵**, 常用$\\mathbf{A}$表示\n",
    "$$\\begin{bmatrix}\n",
    "{1\\quad1}\\\\\n",
    "{2\\quad4}\\\\\n",
    "\\end{bmatrix}$$\n",
    "结果向量也称为常数向量，通常记作$b$\n",
    "$$\\left[\\begin{array}{l}10\\\\28\\end{array}\\right]$$"
   ]
  },
  {
   "cell_type": "markdown",
   "metadata": {},
   "source": [
    "#### 代码: 解线性方程组"
   ]
  },
  {
   "cell_type": "code",
   "execution_count": 4,
   "metadata": {},
   "outputs": [
    {
     "name": "stdout",
     "output_type": "stream",
     "text": [
      "线性方程组的解为：\n",
      " [6. 4.]\n"
     ]
    }
   ],
   "source": [
    "import numpy as np\n",
    "\n",
    "# 系数矩阵\n",
    "A = np.array([[1, 1],\n",
    "              [2, 4]])\n",
    "# 常数向量\n",
    "b = np.array([10,\n",
    "              28])\n",
    "# 解线性方程组\n",
    "x = np.linalg.solve(A, b)\n",
    "print(\"线性方程组的解为：\\n\", x)"
   ]
  },
  {
   "cell_type": "markdown",
   "metadata": {},
   "source": [
    "### 2.2 向量空间、矩阵、行列式以及范数"
   ]
  },
  {
   "cell_type": "markdown",
   "metadata": {},
   "source": [
    "#### 代码: 向量的基本运算"
   ]
  },
  {
   "cell_type": "code",
   "execution_count": 6,
   "metadata": {},
   "outputs": [
    {
     "name": "stdout",
     "output_type": "stream",
     "text": [
      "x=[1 2 3],y=[4 5 6]\n",
      "x的维度为(3,)\n",
      "x+y = [5 7 9]\n",
      "kx = [3 6 9]\n",
      "3x+2y =[11 16 21] \n"
     ]
    }
   ],
   "source": [
    "import numpy as np\n",
    "\n",
    "# 生成向量, 一列为向量\n",
    "x = np.array([1, 2, 3])\n",
    "y = np.array([4, 5, 6])\n",
    "\n",
    "print(\"x={},y={}\".format(x, y))  # x=[1 2 3],y=[4 5 6]\n",
    "\n",
    "# shape函数用于显示向量的维度，如果是向量默认只有一维，维度显示为(dim,)\n",
    "print(\"x的维度为{}\".format(x.shape))  # x的维度为(3,)\n",
    "\n",
    "# 向量加法\n",
    "print(\"x+y = {}\".format(x + y))  # x+y = [5 7 9]\n",
    "\n",
    "# 向量数乘\n",
    "k = 3\n",
    "print(\"kx = {}\".format(k * x))  # kx = [3 6 9]\n",
    "print(\"3x+2y ={} \".format(3 * x + 2 * y))  # 3x+2y =[11 16 21]"
   ]
  },
  {
   "cell_type": "markdown",
   "metadata": {},
   "source": [
    "几何角度来看向量的基本运算\n",
    "\n",
    "![](./figures/2-1.png)"
   ]
  },
  {
   "cell_type": "markdown",
   "metadata": {},
   "source": [
    "#### 代码: 计算行列式$|A|$的值"
   ]
  },
  {
   "cell_type": "code",
   "execution_count": 7,
   "metadata": {},
   "outputs": [
    {
     "name": "stdout",
     "output_type": "stream",
     "text": [
      "A的行列式的值为： 0.0\n",
      "B的行列式的值为： -2.0\n"
     ]
    }
   ],
   "source": [
    "import numpy as np\n",
    "\n",
    "A = np.array([[1, 1, 1],\n",
    "              [2, 4, 2],\n",
    "              [2, 2, 2]])\n",
    "\n",
    "# 计算行列式的值\n",
    "A_det = np.linalg.det(A)\n",
    "print(\"A的行列式的值为：\", A_det)\n",
    "\n",
    "B = np.array([[1, 1, 1, 1],\n",
    "              [1, 2, 0, 0],\n",
    "              [1, 0, 3, 0],\n",
    "              [1, 0, 0, 4]])\n",
    "B_det = np.linalg.det(B)\n",
    "print(\"B的行列式的值为：\", B_det)"
   ]
  },
  {
   "cell_type": "markdown",
   "metadata": {},
   "source": [
    "**克莱姆法则**\n",
    "\n",
    "有了行列式之后，以后只要我们判断了一个方程组：\n",
    "1. 未知数个数等于方程的个数\n",
    "2. 系数行列式$|A| \\neq 0$\n",
    "则这个方程组是有唯一解的"
   ]
  },
  {
   "cell_type": "markdown",
   "metadata": {},
   "source": [
    "#### 代码: 克莱姆法则解线性方程组"
   ]
  },
  {
   "cell_type": "code",
   "execution_count": 8,
   "metadata": {},
   "outputs": [
    {
     "name": "stdout",
     "output_type": "stream",
     "text": [
      "2.9999999999999982\n"
     ]
    }
   ],
   "source": [
    "import numpy as np\n",
    "\n",
    "D = np.array([\n",
    "    [2., 1, -5, 1],\n",
    "    [1, -3, 0, -6],\n",
    "    [0, 2, -1, 2],\n",
    "    [1, 4, -7, 6]\n",
    "])\n",
    "# 计算行列式的值\n",
    "D_det = np.linalg.det(D)\n",
    "\n",
    "D1 = np.array([\n",
    "    [8., 1, -5, 1],\n",
    "    [9, -3, 0, -6],\n",
    "    [-5, 2, -1, 2],\n",
    "    [0, 4, -7, 6]\n",
    "])\n",
    "\n",
    "D1_det = np.linalg.det(D1)\n",
    "\n",
    "x1 = D1_det / D_det\n",
    "print(x1)"
   ]
  },
  {
   "cell_type": "markdown",
   "metadata": {},
   "source": []
  }
 ],
 "metadata": {
  "kernelspec": {
   "display_name": "Python 3.8.8 ('base')",
   "language": "python",
   "name": "python3"
  },
  "language_info": {
   "name": "python",
   "version": "3.8.8"
  },
  "orig_nbformat": 4,
  "vscode": {
   "interpreter": {
    "hash": "88279d2366fe020547cde40dd65aa0e3aa662a6ec1f3ca12d88834876c85e1a6"
   }
  }
 },
 "nbformat": 4,
 "nbformat_minor": 2
}
