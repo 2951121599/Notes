{
 "cells": [
  {
   "cell_type": "markdown",
   "id": "c7bb76d0",
   "metadata": {},
   "source": [
    "## 项目实战——基于矩阵变换的图像变换（参考答案）"
   ]
  },
  {
   "cell_type": "markdown",
   "id": "cb342cf0",
   "metadata": {},
   "source": [
    "<div class=\"alert alert-info\" role=\"alert\">\n",
    "❓ 由于某些原因，Ginger发现家里的摄像头拍出来的图片是“倒了”的影像，但作为一个技术从业人员，她认为能用钱解决的事情一定不要用钱去解决. 因此她决定自己动手写一个小程序将这些图片恢复正常.\n",
    "</div>\n",
    "\n",
    "<img src=\"./figures/2-6.jpg\" width = \"200\" height = \"400\" div align=center />"
   ]
  },
  {
   "cell_type": "markdown",
   "id": "56d3ae2b",
   "metadata": {},
   "source": [
    "我们先来看看每个点是怎么旋转的，首先我们建立一个平面直角坐标系，来观察向量的变换.\n",
    "\n",
    "<img src=\"./figures/2-7.png\" width = \"400\" height = \"400\" div align=center />\n",
    "\n",
    "我们给定一个向量$u=(3,2)$，将其逆时针旋转$90^{\\circ}$，可以得到向量$v=(-2,3)$.\n",
    "\n",
    "设初始向量$u=(x,y)$，逆时针旋转的角度为$\\alpha$. 此时可以推出，\n",
    "$$\n",
    "\\theta = \\arctan{\\frac{y}{x}} \\\\\n",
    "r = ||u||_2\n",
    "$$\n",
    "旋转后得到的坐标为\n",
    "$$\n",
    "x' = r\\cos{(\\theta - \\alpha)}\\\\\n",
    "y' = r\\sin{(\\theta - \\alpha)}\n",
    "$$\n",
    "利用三角和差公式得\n",
    "$$\n",
    "\\cos{(\\theta - \\alpha)} = \\cos{\\theta} \\cos{\\alpha}+\\sin{\\theta}\\sin{\\alpha}\\\\\n",
    "\\sin{(\\theta - \\alpha)} = \\sin{\\theta}\\cos{\\alpha} - \\cos{\\theta}\\sin{\\alpha}\n",
    "$$\n",
    "则\n",
    "$$\n",
    "\\begin{aligned}\n",
    "x' &= r\\cos{\\theta} \\cos{\\alpha}+ r\\sin{\\theta}\\sin{\\alpha}\\\\\n",
    "&= x \\cos{\\alpha} + y \\sin{\\alpha}\\\\\n",
    "y' &= r\\sin{\\theta}\\cos{\\alpha} - r\\cos{\\theta}\\sin{\\alpha}\\\\\n",
    "&= y \\cos{\\alpha} - x \\sin{\\alpha}  \n",
    "\\end{aligned}\n",
    "$$\n",
    "\n",
    "<div class=\"alert alert-warning\" role=\"alert\">\n",
    "<h4>📋任务</h4> \n",
    "\n",
    "请你根据上式，补全下面矩阵中的问号处\n",
    "</div>\n"
   ]
  },
  {
   "cell_type": "markdown",
   "id": "42c5acf2",
   "metadata": {},
   "source": [
    "上面的式子(38)可以用矩阵形式表达：\n",
    "$$\n",
    "\\left[\\begin{array}{lll} \n",
    "x' & y' & 1\n",
    "\\end{array}\\right]=\\left[\\begin{array}{lll} \n",
    "x  & y  & 1\n",
    "\\end{array}\\right]\\left[\\begin{array}{ccc}\n",
    "\\cos \\alpha & -\\sin \\alpha & 0 \\\\\n",
    "\\sin \\alpha & \\cos \\alpha & 0 \\\\\n",
    "0 & 0 & 1\n",
    "\\end{array}\\right]\n",
    "$$"
   ]
  },
  {
   "cell_type": "markdown",
   "id": "d502bf57",
   "metadata": {},
   "source": [
    "同理，我们可以根据公式(38)计算得到原坐标$(x,y)$关于变换后坐标的表达式:\n",
    "$$\n",
    "\\left[\\begin{array}{lll}\n",
    "x & y & 1\n",
    "\\end{array}\\right]=\\left[\\begin{array}{lll}\n",
    "x' & y' & 1\n",
    "\\end{array}\\right]\\left[\\begin{array}{ccc}\n",
    "\\cos \\alpha & \\sin \\alpha & 0 \\\\\n",
    "-\\sin \\alpha & \\cos \\alpha & 0 \\\\\n",
    "0 & 0 & 1\n",
    "\\end{array}\\right]\n",
    "$$"
   ]
  },
  {
   "cell_type": "markdown",
   "id": "d05e4f2d",
   "metadata": {},
   "source": [
    "下面我们来尝试用python实现对二维向量的旋转："
   ]
  },
  {
   "cell_type": "code",
   "execution_count": null,
   "id": "72e9dcc0",
   "metadata": {
    "ExecuteTime": {
     "start_time": "2022-06-02T18:00:32.822Z"
    }
   },
   "outputs": [],
   "source": [
    "# 在------------位置补全代码\n",
    "\n",
    "import numpy as np\n",
    "from math import cos, sin, pi\n",
    "\n",
    "def vec_2d(x0, y0, alpha):\n",
    "    \"\"\"\n",
    "    旋转2维向量.\n",
    "    x0: 横坐标.\n",
    "    y0: 纵坐标.\n",
    "    alpha: 旋转角度，弧度制.\n",
    "    return:(x,y) 旋转后的坐标.\n",
    "    \"\"\"\n",
    "    origin = np.array([[x0, y0, 1]])\n",
    "    Trans = np.array([[cos(alpha), -sin(alpha), 0],\n",
    "                      [sin(alpha), cos(alpha), 0],\n",
    "                      [0, 0, 1]])\n",
    "    \n",
    "    res =   origin.dot(Trans)\n",
    "    x = res[0,0] # ------------\n",
    "    y = res[0,1]# ------------\n",
    "    return (x, y)"
   ]
  },
  {
   "cell_type": "code",
   "execution_count": null,
   "id": "588d660a",
   "metadata": {
    "ExecuteTime": {
     "start_time": "2022-06-02T18:00:38.399Z"
    }
   },
   "outputs": [],
   "source": [
    "# 运行效果应该如下\n",
    "vec_2d(3, 2, pi/2)"
   ]
  },
  {
   "cell_type": "markdown",
   "id": "57ed0501",
   "metadata": {},
   "source": [
    "但如果这样的话，会出现一个问题，对于一张图片而言，旋转中心在左上角，导致整张图片旋转不是中心旋转的. 下面我们需要对坐标轴进行平移，完善我们的变换公式\n",
    "\n",
    "<img src=\"./figures/2-8.png\">"
   ]
  },
  {
   "cell_type": "markdown",
   "id": "3491212c",
   "metadata": {},
   "source": [
    "假设图片宽度为$W$，高度为$H$，则在第一个坐标系下(左图)的坐标$(x',y')$，变换之后的坐标为$(x'',y'')$，则\n",
    "$$\n",
    "\\begin{aligned}\n",
    "x'' &= x'- \\frac{1}{2}W \\\\\n",
    "y'' &= -y'+ \\frac{1}{2}H\n",
    "\\end{aligned}\n",
    "$$\n",
    "\n",
    "则对应的矩阵表示为：\n",
    "\n",
    "<div class=\"alert alert-warning\" role=\"alert\">\n",
    "<h4>📋任务</h4> \n",
    "\n",
    "请你根据上式，补全下面矩阵中的问号处\n",
    "</div>\n",
    "\n",
    "$$\n",
    "\\left[\\begin{array}{lll}\n",
    "x'' & y'' & 1\n",
    "\\end{array}\\right]=\\left[\\begin{array}{lll}\n",
    "x' & y' & 1\n",
    "\\end{array}\\right]\\left[\\begin{array}{ccc}\n",
    "1 & 0 & 0 \\\\\n",
    "0 & -1 & 0 \\\\\n",
    "0.5 W & 0.5 H & 1\n",
    "\\end{array}\\right]\n",
    "$$\n",
    "\n",
    "同理可以求得其逆变换矩阵为：\n",
    "$$\n",
    "\\left[\\begin{array}{lll} \n",
    "x _{0} & Y _{0} & 1\n",
    "\\end{array}\\right]=\\left[\\begin{array}{lll} \n",
    "x & y & 1\n",
    "\\end{array}\\right]\\left[\\begin{array}{ccc}\n",
    "1 & 0 & 0 \\\\\n",
    "0 & -1 & 0 \\\\\n",
    "-0.5W & 0.5 H & 1\n",
    "\\end{array}\\right]\n",
    "$$\n"
   ]
  },
  {
   "cell_type": "markdown",
   "id": "eb837c43",
   "metadata": {},
   "source": [
    "根据图像旋转的一般过程：\n",
    "1. 将原始图像的坐标系转换为数学坐标系；\n",
    "2. 通过旋转公式对冬像坐标进行旋转；\n",
    "3. 将旋转后的数学坐标系转换为图像坐标系.\n",
    "\n",
    "因此图像旋转的矩阵变换为：\n",
    "$$\n",
    "\\left[\\begin{array}{lll} \n",
    "x'' & y'' & 1\n",
    "\\end{array}\\right]=\\left[\\begin{array}{lll} \n",
    "x & y & 1\n",
    "\\end{array}\\right]\\left[\\begin{array}{ccc}\n",
    "1 & 0 & 0 \\\\\n",
    "0 & -1 & 0 \\\\\n",
    "-0.5 W & 0.5 H & 1\n",
    "\\end{array}\\right]\\left[\\begin{array}{ccc}\n",
    "\\cos \\alpha & -\\sin \\alpha & 0 \\\\\n",
    "\\sin \\alpha & \\cos \\alpha & 0 \\\\\n",
    "0 & 0 & 1\n",
    "\\end{array}\\right]\\left[\\begin{array}{ccc}\n",
    "1 & 0 & 0 \\\\\n",
    "0 & -1 & 0 \\\\\n",
    "0.5 W & 0.5H & 1\n",
    "\\end{array}\\right]\\\\\n",
    "=\\left[\\begin{array}{lll} \n",
    "x & y & 1\n",
    "\\end{array}\\right] \\left[\\begin{array}{ccc}\n",
    "\\cos \\alpha & \\sin \\alpha & 0 \\\\\n",
    "-\\sin \\alpha & \\cos \\alpha & 0 \\\\\n",
    "-0.5 W \\cos \\alpha +0.5 H \\sin \\alpha +0.5W & -0.5W \\sin \\alpha -0.5 H \\cos \\alpha + 0.5 H & 1\n",
    "\\end{array}\\right]\n",
    "$$"
   ]
  },
  {
   "cell_type": "code",
   "execution_count": null,
   "id": "2b995c56",
   "metadata": {},
   "outputs": [],
   "source": [
    "def Trans(x0, y0, W, H, alpha):\n",
    "    origin = np.array([[x0, y0, 1]])\n",
    "    res = origin.dot(np.array([[cos(alpha), sin(alpha), 0],\n",
    "                     [-sin(alpha), cos(alpha), 0],\n",
    "                     [-0.5*W*cos(alpha) + 0.5*H*sin(alpha) + 0.5*W, -0.5*W*sin(alpha) - 0.5*H*cos(alpha) + 0.5*H, 1]]))\n",
    "    return (int(res[0,:2][0]),int(res[0,:2][1]))"
   ]
  },
  {
   "cell_type": "code",
   "execution_count": null,
   "id": "418237a0",
   "metadata": {},
   "outputs": [],
   "source": [
    "from skimage import io, data\n",
    "img3 = data.horse()\n",
    "io.imshow(img3)\n",
    "img3.shape"
   ]
  },
  {
   "cell_type": "code",
   "execution_count": null,
   "id": "b3acefd4",
   "metadata": {},
   "outputs": [],
   "source": [
    "img4 = np.zeros((400, 400))\n",
    "\n",
    "for x in range(img3.shape[0]):\n",
    "    for y in range(img3.shape[1]):\n",
    "        x1, y1 = Trans(x, y, 328, 400, pi/2)\n",
    "        img4[x1-355, y1] = img3[x, y]\n",
    "io.imshow(img4)"
   ]
  },
  {
   "cell_type": "markdown",
   "id": "87335b06",
   "metadata": {},
   "source": [
    "以上，我们理论出发，手把手带着你复现了图像旋转的流程，相信在这个过程中，你已经深刻的体会到了从理论，如何被应用到实际当中！当然，我们的实现过程是比较粗糙的，简单粗暴的！当你理解了一个理论工具后，如果你还将它实现了，更好的方式是把它封装成一个函数，放到你的代码库中，方便日后的使用！\n",
    "\n",
    "当然现在Python有很多现成的工具库，可以实现图像旋转的功能，例如```skimage```——一个图像处理库.\n",
    "\n",
    "<div class=\"alert alert-warning\" role=\"alert\">\n",
    "<h4>📋任务</h4> \n",
    "\n",
    "下面请你学习使用```skimage```内置函数```transform.rotate```，尝试一键旋转Ginger的农场里的小鸡！\n",
    "</div>\n",
    "\n",
    "文档地址：\n",
    "[transform.rotate](https://scikit-image.org/docs/stable/api/skimage.transform.html?highlight=transform%20rotate#skimage.transform.rotate)"
   ]
  },
  {
   "cell_type": "code",
   "execution_count": null,
   "id": "7db7b7ec",
   "metadata": {},
   "outputs": [],
   "source": [
    "from skimage import io, transform\n",
    "# from math import *\n",
    "import numpy as np\n",
    "import matplotlib.pyplot as plt\n",
    "\n",
    "dirpath = \"./figures/2-6.jpg\"\n",
    "img = io.imread(dirpath) #读取数据\n",
    "\n",
    "img2 = transform.rotate(img, 90, resize=True) # 旋转图像\n",
    "plt.imshow(img2) "
   ]
  },
  {
   "cell_type": "code",
   "execution_count": null,
   "id": "2585ee24",
   "metadata": {},
   "outputs": [],
   "source": [
    "<div class=\"alert alert-success\" role=\"alert\">\n",
    "  <h4 class=\"alert-heading\">Well done!</h4>\n",
    "  <p>恭喜你，完成了《线性代数》的学习，希望在日后的数模竞赛中，通过本课程的学习，你可以更加深刻的理解矩阵的强大之处，以及更多的使用向量化编程，提高代码的运行效率.</p>\n",
    "  <hr>\n",
    "  <p class=\"mb-0\">风里雨里，学数模我们始终与你一起.——GitModel</p>\n",
    "</div>"
   ]
  }
 ],
 "metadata": {
  "kernelspec": {
   "display_name": "ML38",
   "language": "python",
   "name": "ml38"
  },
  "language_info": {
   "codemirror_mode": {
    "name": "ipython",
    "version": 3
   },
   "file_extension": ".py",
   "mimetype": "text/x-python",
   "name": "python",
   "nbconvert_exporter": "python",
   "pygments_lexer": "ipython3",
   "version": "3.8.12"
  },
  "latex_envs": {
   "LaTeX_envs_menu_present": true,
   "autoclose": false,
   "autocomplete": true,
   "bibliofile": "biblio.bib",
   "cite_by": "apalike",
   "current_citInitial": 1,
   "eqLabelWithNumbers": true,
   "eqNumInitial": 1,
   "hotkeys": {
    "equation": "Ctrl-E",
    "itemize": "Ctrl-I"
   },
   "labels_anchors": false,
   "latex_user_defs": false,
   "report_style_numbering": false,
   "user_envs_cfg": false
  }
 },
 "nbformat": 4,
 "nbformat_minor": 5
}
